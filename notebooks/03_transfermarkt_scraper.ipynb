{
 "cells": [
  {
   "cell_type": "markdown",
   "metadata": {},
   "source": [
    "# 03 Transfermarkt Scraper"
   ]
  },
  {
   "cell_type": "code",
   "execution_count": 137,
   "metadata": {},
   "outputs": [],
   "source": [
    "import requests\n",
    "from bs4 import BeautifulSoup\n",
    "import pandas as pd\n",
    "import urllib.parse"
   ]
  },
  {
   "cell_type": "code",
   "execution_count": 138,
   "metadata": {},
   "outputs": [],
   "source": [
    "headers = {'User-Agent': 'Mozilla/5.0 (Windows NT 10.0; Win64; x64) AppleWebKit/537.36 (KHTML, like Gecko) Chrome/124.0.0.0 Safari/537.36'}"
   ]
  },
  {
   "cell_type": "code",
   "execution_count": 139,
   "metadata": {},
   "outputs": [],
   "source": [
    "page = 'https://www.transfermarkt.de/valencia-cf/startseite/verein/1049'"
   ]
  },
  {
   "cell_type": "code",
   "execution_count": 140,
   "metadata": {},
   "outputs": [],
   "source": [
    "def get_transfermarkt_club_url(club_name, country='DE'):\n",
    "    # Format search query\n",
    "    base_search_url = 'https://www.transfermarkt.de/schnellsuche/ergebnis/schnellsuche'\n",
    "    query = {'query': club_name}\n",
    "    search_url = f\"{base_search_url}?{urllib.parse.urlencode(query)}\"\n",
    "\n",
    "    headers = {\n",
    "        'User-Agent': 'Mozilla/5.0'\n",
    "    }\n",
    "\n",
    "    response = requests.get(search_url, headers=headers)\n",
    "    soup = BeautifulSoup(response.content, 'html.parser')\n",
    "\n",
    "    # Find club link in search results\n",
    "    club_links = soup.select('a[href*=\"/startseite/verein/\"]')\n",
    "    for link in club_links:\n",
    "        href = link.get('href', '')\n",
    "        if '/startseite/verein/' in href:\n",
    "            return urllib.parse.urljoin(\"https://www.transfermarkt.de\", href)\n",
    "\n",
    "    return None  # If no match found"
   ]
  },
  {
   "cell_type": "code",
   "execution_count": 141,
   "metadata": {},
   "outputs": [
    {
     "name": "stdout",
     "output_type": "stream",
     "text": [
      "https://www.transfermarkt.de/fc-valencia/startseite/verein/1049\n"
     ]
    }
   ],
   "source": [
    "club_url = get_transfermarkt_club_url(\"Valencia CF\")\n",
    "print(club_url)"
   ]
  },
  {
   "cell_type": "code",
   "execution_count": 142,
   "metadata": {},
   "outputs": [],
   "source": [
    "page = club_url"
   ]
  },
  {
   "cell_type": "code",
   "execution_count": 143,
   "metadata": {},
   "outputs": [],
   "source": [
    "page_tree = requests.get(page, headers=headers)\n",
    "page_content = BeautifulSoup(page_tree.content, 'html.parser')"
   ]
  },
  {
   "cell_type": "code",
   "execution_count": 144,
   "metadata": {},
   "outputs": [],
   "source": [
    "# Elements\n",
    "players = page_content.find_all('img', {'class': 'bilderrahmen-fixed lazy lazy'})\n",
    "age = page_content.find_all('td', {'class': 'zentriert'})\n",
    "positions = page_content.find_all('td', {'class': [\n",
    "    'zentriert rueckennummer bg_Torwart',\n",
    "    'zentriert rueckennummer bg_Abwehr',\n",
    "    'zentriert rueckennummer bg_Mittelfeld',\n",
    "    'zentriert rueckennummer bg_Sturm']})\n",
    "nations = page_content.find_all('td', {'class': 'zentriert'})\n",
    "market_values = page_content.find_all('td', {'class': 'hauptlink'})"
   ]
  },
  {
   "cell_type": "code",
   "execution_count": 145,
   "metadata": {},
   "outputs": [],
   "source": [
    "# Extract player names\n",
    "PlayersList = [img.get(\"alt\") for img in players if img.get(\"alt\")]\n",
    "\n",
    "# # Extract ages\n",
    "# AgeList = []\n",
    "# for i in range(1, len(players)*3, 3):\n",
    "#     AgeList.append(str(age[i]).split(\">\", 1)[1].split(\"<\", 1)[0])\n",
    "\n",
    "# Extract ages (only the number inside parentheses)\n",
    "AgeList = []\n",
    "for i in range(1, len(players)*3, 3):\n",
    "    raw_text = str(age[i]).split(\">\", 1)[1].split(\"<\", 1)[0]\n",
    "    age_str = raw_text.strip()\n",
    "    if \"(\" in age_str and \")\" in age_str:\n",
    "        AgeList.append(age_str.split(\"(\")[-1].split(\")\")[0])\n",
    "    else:\n",
    "        AgeList.append(None)\n",
    "\n",
    "# Extract positions\n",
    "PositionsList = []\n",
    "for i in range(len(positions)):\n",
    "    PositionsList.append(str(positions[i]).split('title=\"', 1)[1].split('\"><div')[0])\n",
    "\n",
    "# Extract nationalities\n",
    "NationList = []\n",
    "for i in range(2, len(players)*3, 3):\n",
    "    NationList.append(str(nations[i]).split('title=\"', 1)[1].split('\"', 1)[0])"
   ]
  },
  {
   "cell_type": "code",
   "execution_count": 146,
   "metadata": {},
   "outputs": [],
   "source": [
    "# Extract only relevant market values\n",
    "ValuesList = []\n",
    "\n",
    "for tag in market_values:\n",
    "    value = tag.text.strip()\n",
    "    if '€' in value:\n",
    "        ValuesList.append(value)"
   ]
  },
  {
   "cell_type": "code",
   "execution_count": 147,
   "metadata": {},
   "outputs": [],
   "source": [
    "cleaned_values = []\n",
    "\n",
    "for value in ValuesList:\n",
    "    try:\n",
    "        value = value.replace('.', '').replace(',', '.').replace('€', '').strip()\n",
    "\n",
    "        if 'Mio' in value:\n",
    "            numeric_part = value.replace('Mio', '').strip()\n",
    "            cleaned_values.append(float(numeric_part) * 1_000_000)\n",
    "\n",
    "        elif 'Tsd' in value:\n",
    "            numeric_part = value.replace('Tsd', '').strip()\n",
    "            cleaned_values.append(float(numeric_part) * 1_000)\n",
    "\n",
    "        else:\n",
    "            cleaned_values.append(None)\n",
    "\n",
    "    except ValueError:\n",
    "        cleaned_values.append(None)"
   ]
  },
  {
   "cell_type": "code",
   "execution_count": 149,
   "metadata": {},
   "outputs": [],
   "source": [
    "final_df = pd.DataFrame({\n",
    "    \"Player\": PlayersList,\n",
    "    \"Age\": AgeList,\n",
    "    \"Position\": PositionsList,\n",
    "    \"Nation\": NationList,\n",
    "    \"Value\": cleaned_values\n",
    "})"
   ]
  },
  {
   "cell_type": "code",
   "execution_count": 150,
   "metadata": {},
   "outputs": [
    {
     "name": "stdout",
     "output_type": "stream",
     "text": [
      "Players: 26\n",
      "Ages: 26\n",
      "Positions: 26\n",
      "Nations: 26\n",
      "Values: 26\n"
     ]
    },
    {
     "data": {
      "text/html": [
       "<div>\n",
       "<style scoped>\n",
       "    .dataframe tbody tr th:only-of-type {\n",
       "        vertical-align: middle;\n",
       "    }\n",
       "\n",
       "    .dataframe tbody tr th {\n",
       "        vertical-align: top;\n",
       "    }\n",
       "\n",
       "    .dataframe thead th {\n",
       "        text-align: right;\n",
       "    }\n",
       "</style>\n",
       "<table border=\"1\" class=\"dataframe\">\n",
       "  <thead>\n",
       "    <tr style=\"text-align: right;\">\n",
       "      <th></th>\n",
       "      <th>Player</th>\n",
       "      <th>Age</th>\n",
       "      <th>Position</th>\n",
       "      <th>Nation</th>\n",
       "      <th>Value</th>\n",
       "    </tr>\n",
       "  </thead>\n",
       "  <tbody>\n",
       "    <tr>\n",
       "      <th>0</th>\n",
       "      <td>Giorgi Mamardashvili</td>\n",
       "      <td>24</td>\n",
       "      <td>Torwart</td>\n",
       "      <td>Georgien</td>\n",
       "      <td>30000000.0</td>\n",
       "    </tr>\n",
       "    <tr>\n",
       "      <th>1</th>\n",
       "      <td>Stole Dimitrievski</td>\n",
       "      <td>31</td>\n",
       "      <td>Torwart</td>\n",
       "      <td>Nordmazedonien</td>\n",
       "      <td>2500000.0</td>\n",
       "    </tr>\n",
       "    <tr>\n",
       "      <th>2</th>\n",
       "      <td>Jaume Doménech</td>\n",
       "      <td>34</td>\n",
       "      <td>Torwart</td>\n",
       "      <td>Spanien</td>\n",
       "      <td>400000.0</td>\n",
       "    </tr>\n",
       "    <tr>\n",
       "      <th>3</th>\n",
       "      <td>Cristhian Mosquera</td>\n",
       "      <td>20</td>\n",
       "      <td>Abwehr</td>\n",
       "      <td>Spanien</td>\n",
       "      <td>30000000.0</td>\n",
       "    </tr>\n",
       "    <tr>\n",
       "      <th>4</th>\n",
       "      <td>César Tárrega</td>\n",
       "      <td>23</td>\n",
       "      <td>Abwehr</td>\n",
       "      <td>Spanien</td>\n",
       "      <td>10000000.0</td>\n",
       "    </tr>\n",
       "  </tbody>\n",
       "</table>\n",
       "</div>"
      ],
      "text/plain": [
       "                 Player Age Position          Nation       Value\n",
       "0  Giorgi Mamardashvili  24  Torwart        Georgien  30000000.0\n",
       "1    Stole Dimitrievski  31  Torwart  Nordmazedonien   2500000.0\n",
       "2        Jaume Doménech  34  Torwart         Spanien    400000.0\n",
       "3    Cristhian Mosquera  20   Abwehr         Spanien  30000000.0\n",
       "4         César Tárrega  23   Abwehr         Spanien  10000000.0"
      ]
     },
     "metadata": {},
     "output_type": "display_data"
    }
   ],
   "source": [
    "print(\"Players:\", len(PlayersList))\n",
    "print(\"Ages:\", len(AgeList))\n",
    "print(\"Positions:\", len(PositionsList))\n",
    "print(\"Nations:\", len(NationList))\n",
    "print(\"Values:\", len(cleaned_values))\n",
    "display(final_df.head())"
   ]
  },
  {
   "cell_type": "code",
   "execution_count": null,
   "metadata": {},
   "outputs": [],
   "source": []
  }
 ],
 "metadata": {
  "kernelspec": {
   "display_name": ".venv",
   "language": "python",
   "name": "python3"
  },
  "language_info": {
   "codemirror_mode": {
    "name": "ipython",
    "version": 3
   },
   "file_extension": ".py",
   "mimetype": "text/x-python",
   "name": "python",
   "nbconvert_exporter": "python",
   "pygments_lexer": "ipython3",
   "version": "3.10.16"
  }
 },
 "nbformat": 4,
 "nbformat_minor": 2
}
