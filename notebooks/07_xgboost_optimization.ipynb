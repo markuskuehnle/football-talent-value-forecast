{
  "cells": [
    {
      "cell_type": "markdown",
      "metadata": {
        "vscode": {
          "languageId": "raw"
        }
      },
      "source": [
        "# 07 XGBoost with KFold Cross-Validation and Optuna Tuning\n",
        "\n",
        "This notebook trains an XGBoost regressor using KFold cross-validation and hyperparameter optimization with Optuna to predict `MarketValue_NextSeason`. Artifacts (model and study results) are saved to `../models` and `../artifacts`."
      ]
    },
    {
      "cell_type": "code",
      "execution_count": 1,
      "metadata": {},
      "outputs": [],
      "source": [
        "from __future__ import annotations\n",
        "\n",
        "import warnings\n",
        "warnings.filterwarnings(\"ignore\")\n",
        "\n",
        "from pathlib import Path\n",
        "from typing import Dict, List, Tuple\n",
        "\n",
        "import json\n",
        "import pickle\n",
        "\n",
        "import numpy as np\n",
        "import pandas as pd\n",
        "\n",
        "from sklearn.model_selection import KFold\n",
        "from sklearn.metrics import mean_absolute_error, mean_squared_error, r2_score\n",
        "\n",
        "import optuna\n",
        "from optuna.samplers import TPESampler\n",
        "\n",
        "from xgboost import XGBRegressor"
      ]
    },
    {
      "cell_type": "code",
      "execution_count": 2,
      "metadata": {},
      "outputs": [],
      "source": [
        "# keep things reproducible\n",
        "RANDOM_SEED: int = 42\n",
        "np.random.seed(RANDOM_SEED)"
      ]
    },
    {
      "cell_type": "code",
      "execution_count": 3,
      "metadata": {},
      "outputs": [],
      "source": [
        "PROJECT_ROOT: Path = Path(\"..\").resolve()\n",
        "DATA_DIR: Path = PROJECT_ROOT / \"data\" / \"interim\" / \"datasets_combined\"\n",
        "ARTIFACTS_DIR: Path = PROJECT_ROOT / \"artifacts\"\n",
        "MODELS_DIR: Path = PROJECT_ROOT / \"models\""
      ]
    },
    {
      "cell_type": "code",
      "execution_count": 4,
      "metadata": {},
      "outputs": [],
      "source": [
        "for directory in [ARTIFACTS_DIR, MODELS_DIR]:\n",
        "    directory.mkdir(parents=True, exist_ok=True)"
      ]
    },
    {
      "cell_type": "code",
      "execution_count": 5,
      "metadata": {},
      "outputs": [],
      "source": [
        "csv_path: Path = DATA_DIR / \"all_teams_combined.csv\"\n",
        "df_raw: pd.DataFrame = pd.read_csv(csv_path)"
      ]
    },
    {
      "cell_type": "code",
      "execution_count": 6,
      "metadata": {},
      "outputs": [],
      "source": [
        "def build_target(df_with_market_values: pd.DataFrame) -> pd.DataFrame:\n",
        "    \"\"\"Build `MarketValue_NextSeason` and drop rows with missing target. If missing, derive by player-season shift of MarketValueEuro.\"\"\"\n",
        "    if \"MarketValue_NextSeason\" not in df_with_market_values.columns:\n",
        "        required: set[str] = {\"Player\", \"Season\", \"MarketValueEuro\"}\n",
        "        if required.issubset(df_with_market_values.columns):\n",
        "            tmp: pd.DataFrame = df_with_market_values.copy()\n",
        "            tmp[\"Season\"] = tmp[\"Season\"].astype(str)\n",
        "            season_order: dict[str, int] = {s: i for i, s in enumerate(sorted(tmp[\"Season\"].unique()))}\n",
        "            tmp[\"_season_order\"] = tmp[\"Season\"].map(season_order)\n",
        "            tmp = tmp.sort_values([\"Player\", \"_season_order\"]).copy()\n",
        "            tmp[\"MarketValue_NextSeason\"] = tmp.groupby(\"Player\")[\"MarketValueEuro\"].shift(-1)\n",
        "            df_with_market_values = tmp.drop(columns=[\"_season_order\"])  # type: ignore[assignment]\n",
        "        else:\n",
        "            raise ValueError(\"Missing 'MarketValue_NextSeason' and cannot derive it.\")\n",
        "    df_clean: pd.DataFrame = df_with_market_values.dropna(subset=[\"MarketValue_NextSeason\"]).copy()\n",
        "    return df_clean\n",
        "\n",
        "\n",
        "def select_features(df: pd.DataFrame) -> Tuple[pd.DataFrame, pd.Series, List[str]]:\n",
        "    \"\"\"Keep numeric features, drop high-cardinality identifiers.\"\"\"\n",
        "    columns_to_drop: List[str] = [\"Player\", \"Pos\", \"Primary_Pos\", \"Pos_Category\", \"Nationality\"]\n",
        "    df_model: pd.DataFrame = df.drop(columns=[c for c in columns_to_drop if c in df.columns]).copy()\n",
        "    numeric_df: pd.DataFrame = df_model.select_dtypes(include=[np.number]).copy()\n",
        "    y: pd.Series = numeric_df[\"MarketValue_NextSeason\"].astype(float)\n",
        "    X: pd.DataFrame = numeric_df.drop(columns=[\"MarketValue_NextSeason\"]).astype(float)\n",
        "    feature_names: List[str] = list(X.columns)\n",
        "    return X, y, feature_names"
      ]
    },
    {
      "cell_type": "code",
      "execution_count": 7,
      "metadata": {},
      "outputs": [],
      "source": [
        "def kfold_indices(n_samples: int, n_splits: int = 5) -> List[Tuple[np.ndarray, np.ndarray]]:\n",
        "    \"\"\"Return list of (train_idx, valid_idx) for KFold with shuffling.\"\"\"\n",
        "    kf: KFold = KFold(n_splits=n_splits, shuffle=True, random_state=RANDOM_SEED)\n",
        "    return list(kf.split(np.arange(n_samples)))\n"
      ]
    },
    {
      "cell_type": "code",
      "execution_count": 8,
      "metadata": {},
      "outputs": [],
      "source": [
        "def objective_factory(X: pd.DataFrame, y: pd.Series, folds: List[Tuple[np.ndarray, np.ndarray]]):\n",
        "    \"\"\"Create an Optuna objective that performs KFold CV with XGBoost.\"\"\"\n",
        "    def objective(trial: optuna.trial.Trial) -> float:\n",
        "        params = {\n",
        "            \"n_estimators\": trial.suggest_int(\"n_estimators\", 200, 2000, step=100),\n",
        "            \"max_depth\": trial.suggest_int(\"max_depth\", 3, 12),\n",
        "            \"learning_rate\": trial.suggest_float(\"learning_rate\", 1e-3, 0.3, log=True),\n",
        "            \"subsample\": trial.suggest_float(\"subsample\", 0.5, 1.0),\n",
        "            \"colsample_bytree\": trial.suggest_float(\"colsample_bytree\", 0.5, 1.0),\n",
        "            \"min_child_weight\": trial.suggest_float(\"min_child_weight\", 1e-2, 10.0, log=True),\n",
        "            \"reg_alpha\": trial.suggest_float(\"reg_alpha\", 1e-8, 1e-1, log=True),\n",
        "            \"reg_lambda\": trial.suggest_float(\"reg_lambda\", 1e-3, 100.0, log=True),\n",
        "            \"gamma\": trial.suggest_float(\"gamma\", 0.0, 5.0),\n",
        "            \"objective\": \"reg:squarederror\",\n",
        "            \"random_state\": RANDOM_SEED,\n",
        "            \"tree_method\": \"hist\",\n",
        "            \"n_jobs\": -1,\n",
        "            \"eval_metric\": \"mae\",\n",
        "        }\n",
        "\n",
        "        fold_maes: List[float] = []\n",
        "        for train_idx, valid_idx in folds:\n",
        "            X_train, y_train = X.iloc[train_idx], y.iloc[train_idx]\n",
        "            X_valid, y_valid = X.iloc[valid_idx], y.iloc[valid_idx]\n",
        "\n",
        "            model = XGBRegressor(**params)\n",
        "            model.fit(\n",
        "                X_train,\n",
        "                y_train,\n",
        "                eval_set=[(X_valid, y_valid)],\n",
        "                verbose=False,\n",
        "            )\n",
        "            y_pred = model.predict(X_valid)\n",
        "            fold_maes.append(mean_absolute_error(y_valid, y_pred))\n",
        "\n",
        "        return float(np.mean(fold_maes))\n",
        "\n",
        "    return objective"
      ]
    },
    {
      "cell_type": "code",
      "execution_count": 9,
      "metadata": {},
      "outputs": [],
      "source": [
        "def train_final_model(X: pd.DataFrame, y: pd.Series, best_params: Dict[str, object]) -> XGBRegressor:\n",
        "    \"\"\"Train XGBoost on full data with best params and return fitted model.\"\"\"\n",
        "    final_params = {**best_params}\n",
        "    final_params.update({\n",
        "        \"objective\": \"reg:squarederror\",\n",
        "        \"random_state\": RANDOM_SEED,\n",
        "        \"tree_method\": \"hist\",\n",
        "        \"n_jobs\": -1,\n",
        "        \"eval_metric\": \"mae\",\n",
        "    })\n",
        "    model = XGBRegressor(**final_params)\n",
        "    model.fit(X, y, verbose=False)\n",
        "    return model\n",
        "\n",
        "\n",
        "def save_artifacts(model: XGBRegressor, study: optuna.Study, feature_names: List[str]) -> None:\n",
        "    \"\"\"Persist model, study results and metadata to disk.\"\"\"\n",
        "    model_path: Path = MODELS_DIR / \"xgb_market_value_next_season.pkl\"\n",
        "    with open(model_path, \"wb\") as f:\n",
        "        pickle.dump(model, f)\n",
        "\n",
        "    study_json_path: Path = ARTIFACTS_DIR / \"optuna_xgb_study.json\"\n",
        "    with open(study_json_path, \"w\") as f:\n",
        "        json.dump({\n",
        "            \"best_value\": study.best_value,\n",
        "            \"best_params\": study.best_trial.params,\n",
        "            \"n_trials\": len(study.trials),\n",
        "        }, f, indent=2)\n",
        "\n",
        "    meta_path: Path = ARTIFACTS_DIR / \"xgb_feature_names.json\"\n",
        "    with open(meta_path, \"w\") as f:\n",
        "        json.dump({\"feature_names\": feature_names}, f, indent=2)"
      ]
    },
    {
      "cell_type": "code",
      "execution_count": 10,
      "metadata": {},
      "outputs": [],
      "source": [
        "from typing import TypedDict\n",
        "\n",
        "class FoldMetrics(TypedDict):\n",
        "    mae: float\n",
        "    rmse: float\n",
        "    r2: float\n",
        "\n",
        "\n",
        "def cross_validated_metrics(X: pd.DataFrame, y: pd.Series, folds: List[Tuple[np.ndarray, np.ndarray]], best_params: Dict[str, object]) -> Dict[str, float]:\n",
        "    \"\"\"Compute MAE, RMSE, R2 across folds using best params.\"\"\"\n",
        "    perf: List[FoldMetrics] = []\n",
        "\n",
        "    eval_params = {**best_params}\n",
        "    eval_params.update({\n",
        "        \"objective\": \"reg:squarederror\",\n",
        "        \"random_state\": RANDOM_SEED,\n",
        "        \"tree_method\": \"hist\",\n",
        "        \"n_jobs\": -1,\n",
        "        \"eval_metric\": \"mae\",\n",
        "        \"early_stopping_rounds\": 10,\n",
        "    })\n",
        "\n",
        "    for train_idx, valid_idx in folds:\n",
        "        model = XGBRegressor(**eval_params)\n",
        "        model.fit(X.iloc[train_idx], y.iloc[train_idx], verbose=False)\n",
        "        y_pred = model.predict(X.iloc[valid_idx])\n",
        "        perf.append({\n",
        "            \"mae\": mean_absolute_error(y.iloc[valid_idx], y_pred),\n",
        "            \"rmse\": float(np.sqrt(mean_squared_error(y.iloc[valid_idx], y_pred))),\n",
        "            \"r2\": r2_score(y.iloc[valid_idx], y_pred),\n",
        "        })\n",
        "\n",
        "    avg_mae: float = float(np.mean([m[\"mae\"] for m in perf]))\n",
        "    avg_rmse: float = float(np.mean([m[\"rmse\"] for m in perf]))\n",
        "    avg_r2: float = float(np.mean([m[\"r2\"] for m in perf]))\n",
        "\n",
        "    return {\"mae\": avg_mae, \"rmse\": avg_rmse, \"r2\": avg_r2}\n"
      ]
    },
    {
      "cell_type": "code",
      "execution_count": 11,
      "metadata": {},
      "outputs": [],
      "source": [
        "df_model: pd.DataFrame = build_target(df_raw)\n",
        "X, y, feature_names = select_features(df_model)\n",
        "folds = kfold_indices(n_samples=len(X), n_splits=5)"
      ]
    },
    {
      "cell_type": "code",
      "execution_count": 12,
      "metadata": {},
      "outputs": [
        {
          "name": "stderr",
          "output_type": "stream",
          "text": [
            "[I 2025-08-11 12:28:15,489] A new study created in memory with name: no-name-78f9ca7b-93d6-41e7-87b0-9801b5ec4e9b\n",
            "Best trial: 0. Best value: 8.14408e+06:   2%|▏         | 1/50 [00:18<15:06, 18.50s/it]"
          ]
        },
        {
          "name": "stdout",
          "output_type": "stream",
          "text": [
            "[I 2025-08-11 12:28:33,999] Trial 0 finished with value: 8144080.330718597 and parameters: {'n_estimators': 900, 'max_depth': 12, 'learning_rate': 0.06504856968981275, 'subsample': 0.7993292420985183, 'colsample_bytree': 0.5780093202212182, 'min_child_weight': 0.029375384576328302, 'reg_alpha': 2.5502648504032812e-08, 'reg_lambda': 21.42302175774107, 'gamma': 3.005575058716044}. Best is trial 0 with value: 8144080.330718597.\n"
          ]
        },
        {
          "name": "stderr",
          "output_type": "stream",
          "text": [
            "Best trial: 1. Best value: 7.3822e+06:   4%|▍         | 2/50 [00:29<11:03, 13.82s/it] "
          ]
        },
        {
          "name": "stdout",
          "output_type": "stream",
          "text": [
            "[I 2025-08-11 12:28:44,549] Trial 1 finished with value: 7382197.970323068 and parameters: {'n_estimators': 1500, 'max_depth': 3, 'learning_rate': 0.2526878207508456, 'subsample': 0.9162213204002109, 'colsample_bytree': 0.6061695553391381, 'min_child_weight': 0.035113563139704075, 'reg_alpha': 1.9223460470643606e-07, 'reg_lambda': 0.033205591037519584, 'gamma': 2.6237821581611893}. Best is trial 1 with value: 7382197.970323068.\n"
          ]
        },
        {
          "name": "stderr",
          "output_type": "stream",
          "text": [
            "Best trial: 1. Best value: 7.3822e+06:   6%|▌         | 3/50 [00:39<09:27, 12.07s/it]"
          ]
        },
        {
          "name": "stdout",
          "output_type": "stream",
          "text": [
            "[I 2025-08-11 12:28:54,535] Trial 2 finished with value: 7572520.733931159 and parameters: {'n_estimators': 1000, 'max_depth': 5, 'learning_rate': 0.032781876533976156, 'subsample': 0.569746930326021, 'colsample_bytree': 0.6460723242676091, 'min_child_weight': 0.1256277350380703, 'reg_alpha': 1.557721770269302e-05, 'reg_lambda': 8.431013932082463, 'gamma': 0.9983689107917987}. Best is trial 1 with value: 7382197.970323068.\n"
          ]
        },
        {
          "name": "stderr",
          "output_type": "stream",
          "text": [
            "Best trial: 1. Best value: 7.3822e+06:   8%|▊         | 4/50 [00:54<10:08, 13.24s/it]"
          ]
        },
        {
          "name": "stdout",
          "output_type": "stream",
          "text": [
            "[I 2025-08-11 12:29:09,560] Trial 3 finished with value: 13003706.525797103 and parameters: {'n_estimators': 1100, 'max_depth': 8, 'learning_rate': 0.0013033567475147442, 'subsample': 0.8037724259507192, 'colsample_bytree': 0.5852620618436457, 'min_child_weight': 0.015673095467235415, 'reg_alpha': 0.043873144324354, 'reg_lambda': 67.32248920775338, 'gamma': 4.041986740582305}. Best is trial 1 with value: 7382197.970323068.\n"
          ]
        },
        {
          "name": "stderr",
          "output_type": "stream",
          "text": [
            "Best trial: 1. Best value: 7.3822e+06:  10%|█         | 5/50 [00:58<07:38, 10.20s/it]"
          ]
        },
        {
          "name": "stdout",
          "output_type": "stream",
          "text": [
            "[I 2025-08-11 12:29:14,374] Trial 4 finished with value: 7737712.290812197 and parameters: {'n_estimators': 700, 'max_depth': 3, 'learning_rate': 0.04953682563497157, 'subsample': 0.7200762468698007, 'colsample_bytree': 0.5610191174223894, 'min_child_weight': 0.3058656666978527, 'reg_alpha': 1.7406828393128058e-08, 'reg_lambda': 35.20481045526039, 'gamma': 1.2938999080000846}. Best is trial 1 with value: 7382197.970323068.\n"
          ]
        },
        {
          "name": "stderr",
          "output_type": "stream",
          "text": [
            "Best trial: 1. Best value: 7.3822e+06:  12%|█▏        | 6/50 [01:13<08:37, 11.76s/it]"
          ]
        },
        {
          "name": "stdout",
          "output_type": "stream",
          "text": [
            "[I 2025-08-11 12:29:29,176] Trial 5 finished with value: 7473775.0108650355 and parameters: {'n_estimators': 1400, 'max_depth': 6, 'learning_rate': 0.01942099825171803, 'subsample': 0.7733551396716398, 'colsample_bytree': 0.5924272277627636, 'min_child_weight': 8.105016126411584, 'reg_alpha': 0.0026664274004676823, 'reg_lambda': 49.830438374949104, 'gamma': 4.474136752138244}. Best is trial 1 with value: 7382197.970323068.\n"
          ]
        },
        {
          "name": "stderr",
          "output_type": "stream",
          "text": [
            "Best trial: 1. Best value: 7.3822e+06:  14%|█▍        | 7/50 [01:40<11:59, 16.72s/it]"
          ]
        },
        {
          "name": "stdout",
          "output_type": "stream",
          "text": [
            "[I 2025-08-11 12:29:56,108] Trial 6 finished with value: 8463198.926521739 and parameters: {'n_estimators': 1300, 'max_depth': 12, 'learning_rate': 0.0016565580440884786, 'subsample': 0.5979914312095727, 'colsample_bytree': 0.522613644455269, 'min_child_weight': 0.09462175356461491, 'reg_alpha': 5.257036929213663e-06, 'reg_lambda': 0.022737628102536857, 'gamma': 4.143687545759647}. Best is trial 1 with value: 7382197.970323068.\n"
          ]
        },
        {
          "name": "stderr",
          "output_type": "stream",
          "text": [
            "Best trial: 7. Best value: 7.23355e+06:  16%|█▌        | 8/50 [01:48<09:49, 14.03s/it]"
          ]
        },
        {
          "name": "stdout",
          "output_type": "stream",
          "text": [
            "[I 2025-08-11 12:30:04,385] Trial 7 finished with value: 7233545.270190218 and parameters: {'n_estimators': 800, 'max_depth': 5, 'learning_rate': 0.022096526145513846, 'subsample': 0.5704621124873813, 'colsample_bytree': 0.9010984903770198, 'min_child_weight': 0.01673601016782578, 'reg_alpha': 0.08094845352286124, 'reg_lambda': 7.264803074826729, 'gamma': 0.993578407670862}. Best is trial 7 with value: 7233545.270190218.\n"
          ]
        },
        {
          "name": "stderr",
          "output_type": "stream",
          "text": [
            "Best trial: 8. Best value: 6.91736e+06:  18%|█▊        | 9/50 [01:53<07:30, 10.99s/it]"
          ]
        },
        {
          "name": "stdout",
          "output_type": "stream",
          "text": [
            "[I 2025-08-11 12:30:08,673] Trial 8 finished with value: 6917363.076974921 and parameters: {'n_estimators': 200, 'max_depth': 11, 'learning_rate': 0.0563600475052774, 'subsample': 0.8645035840204937, 'colsample_bytree': 0.8856351733429728, 'min_child_weight': 0.016677615430197915, 'reg_alpha': 3.2304282522409512e-06, 'reg_lambda': 0.0037961668958008117, 'gamma': 4.315517129377968}. Best is trial 8 with value: 6917363.076974921.\n"
          ]
        },
        {
          "name": "stderr",
          "output_type": "stream",
          "text": [
            "Best trial: 8. Best value: 6.91736e+06:  20%|██        | 10/50 [02:07<08:00, 12.00s/it]"
          ]
        },
        {
          "name": "stdout",
          "output_type": "stream",
          "text": [
            "[I 2025-08-11 12:30:22,945] Trial 9 finished with value: 10896696.602270532 and parameters: {'n_estimators': 1300, 'max_depth': 6, 'learning_rate': 0.0014369502768990666, 'subsample': 0.6554911608578311, 'colsample_bytree': 0.6625916610133735, 'min_child_weight': 1.5446089075047074, 'reg_alpha': 0.00029033694281285587, 'reg_lambda': 27.29378165037476, 'gamma': 2.3610746258097466}. Best is trial 8 with value: 6917363.076974921.\n"
          ]
        },
        {
          "name": "stderr",
          "output_type": "stream",
          "text": [
            "Best trial: 8. Best value: 6.91736e+06:  22%|██▏       | 11/50 [02:11<06:11,  9.54s/it]"
          ]
        },
        {
          "name": "stdout",
          "output_type": "stream",
          "text": [
            "[I 2025-08-11 12:30:26,890] Trial 10 finished with value: 8603898.991449274 and parameters: {'n_estimators': 200, 'max_depth': 10, 'learning_rate': 0.0057835683328601424, 'subsample': 0.968324376628699, 'colsample_bytree': 0.9896117410993797, 'min_child_weight': 1.1769044926591639, 'reg_alpha': 6.38982064548936e-07, 'reg_lambda': 0.0011365065005058401, 'gamma': 4.846565363770473}. Best is trial 8 with value: 6917363.076974921.\n"
          ]
        },
        {
          "name": "stderr",
          "output_type": "stream",
          "text": [
            "Best trial: 8. Best value: 6.91736e+06:  24%|██▍       | 12/50 [02:43<10:25, 16.45s/it]"
          ]
        },
        {
          "name": "stdout",
          "output_type": "stream",
          "text": [
            "[I 2025-08-11 12:30:59,160] Trial 11 finished with value: 7595116.024248188 and parameters: {'n_estimators': 2000, 'max_depth': 9, 'learning_rate': 0.14274871405399792, 'subsample': 0.5121573992610218, 'colsample_bytree': 0.8936221864929604, 'min_child_weight': 0.011535773116106655, 'reg_alpha': 0.000379790332107252, 'reg_lambda': 1.0862289420171283, 'gamma': 0.12389484830448005}. Best is trial 8 with value: 6917363.076974921.\n"
          ]
        },
        {
          "name": "stderr",
          "output_type": "stream",
          "text": [
            "Best trial: 8. Best value: 6.91736e+06:  26%|██▌       | 13/50 [02:47<07:44, 12.56s/it]"
          ]
        },
        {
          "name": "stdout",
          "output_type": "stream",
          "text": [
            "[I 2025-08-11 12:31:02,758] Trial 12 finished with value: 8439582.881980676 and parameters: {'n_estimators': 200, 'max_depth': 10, 'learning_rate': 0.008422274649927165, 'subsample': 0.8699908413154953, 'colsample_bytree': 0.8280382521790727, 'min_child_weight': 0.06659703893931958, 'reg_alpha': 0.07410784250340227, 'reg_lambda': 1.6608911291188535, 'gamma': 1.6548028346426515}. Best is trial 8 with value: 6917363.076974921.\n"
          ]
        },
        {
          "name": "stderr",
          "output_type": "stream",
          "text": [
            "Best trial: 8. Best value: 6.91736e+06:  28%|██▊       | 14/50 [02:52<06:11, 10.32s/it]"
          ]
        },
        {
          "name": "stdout",
          "output_type": "stream",
          "text": [
            "[I 2025-08-11 12:31:07,910] Trial 13 finished with value: 6924967.847300725 and parameters: {'n_estimators': 500, 'max_depth': 5, 'learning_rate': 0.00976373794177988, 'subsample': 0.7039294159774774, 'colsample_bytree': 0.8063670284006881, 'min_child_weight': 0.011930220880472086, 'reg_alpha': 2.0609035906393508e-06, 'reg_lambda': 0.07144483236532209, 'gamma': 3.4275230406446715}. Best is trial 8 with value: 6917363.076974921.\n"
          ]
        },
        {
          "name": "stderr",
          "output_type": "stream",
          "text": [
            "Best trial: 8. Best value: 6.91736e+06:  30%|███       | 15/50 [02:59<05:24,  9.27s/it]"
          ]
        },
        {
          "name": "stdout",
          "output_type": "stream",
          "text": [
            "[I 2025-08-11 12:31:14,759] Trial 14 finished with value: 7454570.144637682 and parameters: {'n_estimators': 500, 'max_depth': 7, 'learning_rate': 0.004459776160065379, 'subsample': 0.708015733458699, 'colsample_bytree': 0.7746366950271256, 'min_child_weight': 0.34057497383361185, 'reg_alpha': 2.2939492545644597e-06, 'reg_lambda': 0.020041474573075202, 'gamma': 3.524635413007553}. Best is trial 8 with value: 6917363.076974921.\n"
          ]
        },
        {
          "name": "stderr",
          "output_type": "stream",
          "text": [
            "Best trial: 8. Best value: 6.91736e+06:  32%|███▏      | 16/50 [03:09<05:27,  9.63s/it]"
          ]
        },
        {
          "name": "stdout",
          "output_type": "stream",
          "text": [
            "[I 2025-08-11 12:31:25,215] Trial 15 finished with value: 7234335.550646136 and parameters: {'n_estimators': 500, 'max_depth': 11, 'learning_rate': 0.009997148438604957, 'subsample': 0.8709159137040583, 'colsample_bytree': 0.7381659221283137, 'min_child_weight': 0.040101357543836424, 'reg_alpha': 6.785180408961664e-05, 'reg_lambda': 0.0011955064125793882, 'gamma': 3.4861806811898743}. Best is trial 8 with value: 6917363.076974921.\n"
          ]
        },
        {
          "name": "stderr",
          "output_type": "stream",
          "text": [
            "Best trial: 16. Best value: 6.90711e+06:  34%|███▍      | 17/50 [03:14<04:26,  8.06s/it]"
          ]
        },
        {
          "name": "stdout",
          "output_type": "stream",
          "text": [
            "[I 2025-08-11 12:31:29,640] Trial 16 finished with value: 6907114.660744262 and parameters: {'n_estimators': 500, 'max_depth': 4, 'learning_rate': 0.10069190301712835, 'subsample': 0.9898232498406145, 'colsample_bytree': 0.8818736974574265, 'min_child_weight': 0.010882388908284683, 'reg_alpha': 1.9430622077275872e-07, 'reg_lambda': 0.10282901151547004, 'gamma': 3.4697615743378725}. Best is trial 16 with value: 6907114.660744262.\n"
          ]
        },
        {
          "name": "stderr",
          "output_type": "stream",
          "text": [
            "Best trial: 16. Best value: 6.90711e+06:  36%|███▌      | 18/50 [03:19<03:48,  7.13s/it]"
          ]
        },
        {
          "name": "stdout",
          "output_type": "stream",
          "text": [
            "[I 2025-08-11 12:31:34,586] Trial 17 finished with value: 7554129.920262681 and parameters: {'n_estimators': 300, 'max_depth': 8, 'learning_rate': 0.10767092288179794, 'subsample': 0.9746524736680412, 'colsample_bytree': 0.9639278601911901, 'min_child_weight': 0.2033759060329643, 'reg_alpha': 1.407306688822436e-07, 'reg_lambda': 0.005985294044348982, 'gamma': 4.988772309713806}. Best is trial 16 with value: 6907114.660744262.\n"
          ]
        },
        {
          "name": "stderr",
          "output_type": "stream",
          "text": [
            "Best trial: 16. Best value: 6.90711e+06:  38%|███▊      | 19/50 [03:24<03:25,  6.64s/it]"
          ]
        },
        {
          "name": "stdout",
          "output_type": "stream",
          "text": [
            "[I 2025-08-11 12:31:40,074] Trial 18 finished with value: 6949283.4877566425 and parameters: {'n_estimators': 600, 'max_depth': 4, 'learning_rate': 0.2523323534685702, 'subsample': 0.923875020697257, 'colsample_bytree': 0.8992968442196599, 'min_child_weight': 0.9292477180303236, 'reg_alpha': 1.5789244806941123e-07, 'reg_lambda': 0.20126836624618866, 'gamma': 3.9562760516402307}. Best is trial 16 with value: 6907114.660744262.\n"
          ]
        },
        {
          "name": "stderr",
          "output_type": "stream",
          "text": [
            "Best trial: 16. Best value: 6.90711e+06:  40%|████      | 20/50 [03:31<03:19,  6.65s/it]"
          ]
        },
        {
          "name": "stdout",
          "output_type": "stream",
          "text": [
            "[I 2025-08-11 12:31:46,767] Trial 19 finished with value: 7520855.985070953 and parameters: {'n_estimators': 400, 'max_depth': 9, 'learning_rate': 0.09750235866276047, 'subsample': 0.9965058000267794, 'colsample_bytree': 0.8513832096778788, 'min_child_weight': 8.353113133218718, 'reg_alpha': 3.072098750792349e-05, 'reg_lambda': 0.007045432313669922, 'gamma': 2.1027096903348372}. Best is trial 16 with value: 6907114.660744262.\n"
          ]
        },
        {
          "name": "stderr",
          "output_type": "stream",
          "text": [
            "Best trial: 16. Best value: 6.90711e+06:  42%|████▏     | 21/50 [04:03<06:53, 14.27s/it]"
          ]
        },
        {
          "name": "stdout",
          "output_type": "stream",
          "text": [
            "[I 2025-08-11 12:32:18,791] Trial 20 finished with value: 6926360.520156249 and parameters: {'n_estimators': 1700, 'max_depth': 11, 'learning_rate': 0.050399503398520125, 'subsample': 0.8610555747955545, 'colsample_bytree': 0.7313865375233626, 'min_child_weight': 0.027258854176694946, 'reg_alpha': 6.604190789604671e-07, 'reg_lambda': 0.27390993627885274, 'gamma': 2.9375927454009076}. Best is trial 16 with value: 6907114.660744262.\n"
          ]
        },
        {
          "name": "stderr",
          "output_type": "stream",
          "text": [
            "Best trial: 16. Best value: 6.90711e+06:  44%|████▍     | 22/50 [04:06<05:08, 11.03s/it]"
          ]
        },
        {
          "name": "stdout",
          "output_type": "stream",
          "text": [
            "[I 2025-08-11 12:32:22,274] Trial 21 finished with value: 6965344.400942029 and parameters: {'n_estimators': 400, 'max_depth': 4, 'learning_rate': 0.030126734113170885, 'subsample': 0.6667317045305885, 'colsample_bytree': 0.8024831461169212, 'min_child_weight': 0.010828068802121074, 'reg_alpha': 2.5287830510540156e-06, 'reg_lambda': 0.08095563021580932, 'gamma': 3.481236781558082}. Best is trial 16 with value: 6907114.660744262.\n"
          ]
        },
        {
          "name": "stderr",
          "output_type": "stream",
          "text": [
            "Best trial: 22. Best value: 6.77514e+06:  46%|████▌     | 23/50 [04:15<04:37, 10.27s/it]"
          ]
        },
        {
          "name": "stdout",
          "output_type": "stream",
          "text": [
            "[I 2025-08-11 12:32:30,771] Trial 22 finished with value: 6775139.546206219 and parameters: {'n_estimators': 700, 'max_depth': 6, 'learning_rate': 0.011988521846583909, 'subsample': 0.8224049740190441, 'colsample_bytree': 0.864934897682232, 'min_child_weight': 0.05601462469416637, 'reg_alpha': 7.869124471561105e-06, 'reg_lambda': 0.005071707744898587, 'gamma': 3.1665985943540944}. Best is trial 22 with value: 6775139.546206219.\n"
          ]
        },
        {
          "name": "stderr",
          "output_type": "stream",
          "text": [
            "Best trial: 22. Best value: 6.77514e+06:  48%|████▊     | 24/50 [04:24<04:20, 10.02s/it]"
          ]
        },
        {
          "name": "stdout",
          "output_type": "stream",
          "text": [
            "[I 2025-08-11 12:32:40,218] Trial 23 finished with value: 7356707.318716032 and parameters: {'n_estimators': 700, 'max_depth': 7, 'learning_rate': 0.16694952083395906, 'subsample': 0.8196153640790306, 'colsample_bytree': 0.9400131173613442, 'min_child_weight': 0.04415470686774213, 'reg_alpha': 9.270253646565232e-06, 'reg_lambda': 0.006084233673296542, 'gamma': 4.421692797982566}. Best is trial 22 with value: 6775139.546206219.\n"
          ]
        },
        {
          "name": "stderr",
          "output_type": "stream",
          "text": [
            "Best trial: 22. Best value: 6.77514e+06:  50%|█████     | 25/50 [04:27<03:14,  7.77s/it]"
          ]
        },
        {
          "name": "stdout",
          "output_type": "stream",
          "text": [
            "[I 2025-08-11 12:32:42,741] Trial 24 finished with value: 6836491.415611413 and parameters: {'n_estimators': 200, 'max_depth': 6, 'learning_rate': 0.059408169129062785, 'subsample': 0.9256483860475736, 'colsample_bytree': 0.8636332379108128, 'min_child_weight': 0.019538827464060483, 'reg_alpha': 7.54799865538914e-05, 'reg_lambda': 0.0028108431080484577, 'gamma': 3.008262393744414}. Best is trial 22 with value: 6775139.546206219.\n"
          ]
        },
        {
          "name": "stderr",
          "output_type": "stream",
          "text": [
            "Best trial: 22. Best value: 6.77514e+06:  52%|█████▏    | 26/50 [04:36<03:15,  8.13s/it]"
          ]
        },
        {
          "name": "stdout",
          "output_type": "stream",
          "text": [
            "[I 2025-08-11 12:32:51,713] Trial 25 finished with value: 7509494.767753623 and parameters: {'n_estimators': 700, 'max_depth': 6, 'learning_rate': 0.0030453718146058904, 'subsample': 0.9145896604543982, 'colsample_bytree': 0.8475879361464083, 'min_child_weight': 0.07295515207731382, 'reg_alpha': 0.00018354610213747709, 'reg_lambda': 0.0025965895846938145, 'gamma': 2.9606118576411786}. Best is trial 22 with value: 6775139.546206219.\n"
          ]
        },
        {
          "name": "stderr",
          "output_type": "stream",
          "text": [
            "Best trial: 26. Best value: 6.75492e+06:  54%|█████▍    | 27/50 [04:46<03:19,  8.68s/it]"
          ]
        },
        {
          "name": "stdout",
          "output_type": "stream",
          "text": [
            "[I 2025-08-11 12:33:01,678] Trial 26 finished with value: 6754918.628134059 and parameters: {'n_estimators': 1100, 'max_depth': 4, 'learning_rate': 0.015408224650297573, 'subsample': 0.9457347263942016, 'colsample_bytree': 0.9456601772172633, 'min_child_weight': 0.025333875618357583, 'reg_alpha': 0.0020932300204200257, 'reg_lambda': 0.011915184259191247, 'gamma': 1.9474839913789355}. Best is trial 26 with value: 6754918.628134059.\n"
          ]
        },
        {
          "name": "stderr",
          "output_type": "stream",
          "text": [
            "Best trial: 27. Best value: 6.73611e+06:  56%|█████▌    | 28/50 [04:58<03:35,  9.78s/it]"
          ]
        },
        {
          "name": "stdout",
          "output_type": "stream",
          "text": [
            "[I 2025-08-11 12:33:14,016] Trial 27 finished with value: 6736105.397427537 and parameters: {'n_estimators': 1000, 'max_depth': 6, 'learning_rate': 0.01444103906830423, 'subsample': 0.9337708849747367, 'colsample_bytree': 0.9317926364637923, 'min_child_weight': 0.1535685514427001, 'reg_alpha': 0.0030606504716779895, 'reg_lambda': 0.012207123914963236, 'gamma': 1.7975618669704976}. Best is trial 27 with value: 6736105.397427537.\n"
          ]
        },
        {
          "name": "stderr",
          "output_type": "stream",
          "text": [
            "Best trial: 28. Best value: 6.65387e+06:  58%|█████▊    | 29/50 [05:09<03:35, 10.29s/it]"
          ]
        },
        {
          "name": "stdout",
          "output_type": "stream",
          "text": [
            "[I 2025-08-11 12:33:25,482] Trial 28 finished with value: 6653869.440662742 and parameters: {'n_estimators': 1100, 'max_depth': 5, 'learning_rate': 0.012090954564527537, 'subsample': 0.9437216189094653, 'colsample_bytree': 0.9341579561639305, 'min_child_weight': 0.5042755961877183, 'reg_alpha': 0.009603582758073707, 'reg_lambda': 0.013380583069692396, 'gamma': 1.9121647651076459}. Best is trial 28 with value: 6653869.440662742.\n"
          ]
        },
        {
          "name": "stderr",
          "output_type": "stream",
          "text": [
            "Best trial: 28. Best value: 6.65387e+06:  60%|██████    | 30/50 [05:18<03:16,  9.82s/it]"
          ]
        },
        {
          "name": "stdout",
          "output_type": "stream",
          "text": [
            "[I 2025-08-11 12:33:34,232] Trial 29 finished with value: 6818565.045615941 and parameters: {'n_estimators': 1000, 'max_depth': 4, 'learning_rate': 0.014345606791038775, 'subsample': 0.9471096130991018, 'colsample_bytree': 0.9337783116935967, 'min_child_weight': 0.5562896455344506, 'reg_alpha': 0.008628133145170793, 'reg_lambda': 0.014035050028564023, 'gamma': 1.873422438787569}. Best is trial 28 with value: 6653869.440662742.\n"
          ]
        },
        {
          "name": "stderr",
          "output_type": "stream",
          "text": [
            "Best trial: 28. Best value: 6.65387e+06:  62%|██████▏   | 31/50 [05:30<03:19, 10.53s/it]"
          ]
        },
        {
          "name": "stdout",
          "output_type": "stream",
          "text": [
            "[I 2025-08-11 12:33:46,392] Trial 30 finished with value: 6764407.76643418 and parameters: {'n_estimators': 1200, 'max_depth': 5, 'learning_rate': 0.0067811713400410785, 'subsample': 0.896599012489038, 'colsample_bytree': 0.9352700264150317, 'min_child_weight': 2.889298667444691, 'reg_alpha': 0.002583434304715759, 'reg_lambda': 0.03642750310900569, 'gamma': 0.28737103044881307}. Best is trial 28 with value: 6653869.440662742.\n"
          ]
        },
        {
          "name": "stderr",
          "output_type": "stream",
          "text": [
            "Best trial: 28. Best value: 6.65387e+06:  64%|██████▍   | 32/50 [05:42<03:17, 10.97s/it]"
          ]
        },
        {
          "name": "stdout",
          "output_type": "stream",
          "text": [
            "[I 2025-08-11 12:33:58,399] Trial 31 finished with value: 6735992.9626524765 and parameters: {'n_estimators': 1200, 'max_depth': 5, 'learning_rate': 0.006093090034665162, 'subsample': 0.8901130821961694, 'colsample_bytree': 0.988151303929277, 'min_child_weight': 3.5220950998393143, 'reg_alpha': 0.0017458997619220929, 'reg_lambda': 0.04173875860576684, 'gamma': 0.012462071089689553}. Best is trial 28 with value: 6653869.440662742.\n"
          ]
        },
        {
          "name": "stderr",
          "output_type": "stream",
          "text": [
            "Best trial: 28. Best value: 6.65387e+06:  66%|██████▌   | 33/50 [05:49<02:42,  9.57s/it]"
          ]
        },
        {
          "name": "stdout",
          "output_type": "stream",
          "text": [
            "[I 2025-08-11 12:34:04,717] Trial 32 finished with value: 6977811.196135266 and parameters: {'n_estimators': 900, 'max_depth': 3, 'learning_rate': 0.0037684820026408134, 'subsample': 0.9493358325452835, 'colsample_bytree': 0.9895660410986723, 'min_child_weight': 4.277781631972801, 'reg_alpha': 0.0013954738614546246, 'reg_lambda': 0.011238955314983621, 'gamma': 0.5750986930584996}. Best is trial 28 with value: 6653869.440662742.\n"
          ]
        },
        {
          "name": "stderr",
          "output_type": "stream",
          "text": [
            "Best trial: 28. Best value: 6.65387e+06:  68%|██████▊   | 34/50 [06:05<03:06, 11.66s/it]"
          ]
        },
        {
          "name": "stdout",
          "output_type": "stream",
          "text": [
            "[I 2025-08-11 12:34:21,243] Trial 33 finished with value: 6944711.832741546 and parameters: {'n_estimators': 1600, 'max_depth': 5, 'learning_rate': 0.002428663584468382, 'subsample': 0.9494629556944618, 'colsample_bytree': 0.954434658417314, 'min_child_weight': 0.20719939358537162, 'reg_alpha': 0.022192057127411173, 'reg_lambda': 0.0437633756475801, 'gamma': 1.6075453115516565}. Best is trial 28 with value: 6653869.440662742.\n"
          ]
        },
        {
          "name": "stderr",
          "output_type": "stream",
          "text": [
            "Best trial: 28. Best value: 6.65387e+06:  70%|███████   | 35/50 [06:20<03:07, 12.47s/it]"
          ]
        },
        {
          "name": "stdout",
          "output_type": "stream",
          "text": [
            "[I 2025-08-11 12:34:35,595] Trial 34 finished with value: 6809736.750196256 and parameters: {'n_estimators': 1100, 'max_depth': 7, 'learning_rate': 0.026291156365107225, 'subsample': 0.9016565643460075, 'colsample_bytree': 0.9740941739936849, 'min_child_weight': 2.2520568973803115, 'reg_alpha': 0.013563609508634342, 'reg_lambda': 0.01117168002337444, 'gamma': 2.4457207254776874}. Best is trial 28 with value: 6653869.440662742.\n"
          ]
        },
        {
          "name": "stderr",
          "output_type": "stream",
          "text": [
            "Best trial: 28. Best value: 6.65387e+06:  72%|███████▏  | 36/50 [06:26<02:29, 10.65s/it]"
          ]
        },
        {
          "name": "stdout",
          "output_type": "stream",
          "text": [
            "[I 2025-08-11 12:34:41,993] Trial 35 finished with value: 6839486.868502416 and parameters: {'n_estimators': 900, 'max_depth': 3, 'learning_rate': 0.01563312738205929, 'subsample': 0.8371129095359687, 'colsample_bytree': 0.9195027247476023, 'min_child_weight': 0.4708474285803342, 'reg_alpha': 0.0010144964077932002, 'reg_lambda': 0.6623597123121396, 'gamma': 1.0833441632853236}. Best is trial 28 with value: 6653869.440662742.\n"
          ]
        },
        {
          "name": "stderr",
          "output_type": "stream",
          "text": [
            "Best trial: 28. Best value: 6.65387e+06:  74%|███████▍  | 37/50 [06:38<02:25, 11.18s/it]"
          ]
        },
        {
          "name": "stdout",
          "output_type": "stream",
          "text": [
            "[I 2025-08-11 12:34:54,432] Trial 36 finished with value: 6742586.586316426 and parameters: {'n_estimators': 1200, 'max_depth': 5, 'learning_rate': 0.005399665566688359, 'subsample': 0.7750694271873197, 'colsample_bytree': 0.9973330192666954, 'min_child_weight': 0.7098706112897883, 'reg_alpha': 0.006542582481917801, 'reg_lambda': 0.1221830605689463, 'gamma': 2.0909142305708164}. Best is trial 28 with value: 6653869.440662742.\n"
          ]
        },
        {
          "name": "stderr",
          "output_type": "stream",
          "text": [
            "Best trial: 28. Best value: 6.65387e+06:  76%|███████▌  | 38/50 [06:53<02:26, 12.18s/it]"
          ]
        },
        {
          "name": "stdout",
          "output_type": "stream",
          "text": [
            "[I 2025-08-11 12:35:08,939] Trial 37 finished with value: 6754089.588176328 and parameters: {'n_estimators': 1400, 'max_depth': 5, 'learning_rate': 0.005958984422626197, 'subsample': 0.767693171681764, 'colsample_bytree': 0.9970560032186802, 'min_child_weight': 0.15031738897945912, 'reg_alpha': 0.008535380404621476, 'reg_lambda': 0.13806839219824932, 'gamma': 0.7213462540908027}. Best is trial 28 with value: 6653869.440662742.\n"
          ]
        },
        {
          "name": "stderr",
          "output_type": "stream",
          "text": [
            "Best trial: 28. Best value: 6.65387e+06:  78%|███████▊  | 39/50 [07:07<02:19, 12.71s/it]"
          ]
        },
        {
          "name": "stdout",
          "output_type": "stream",
          "text": [
            "[I 2025-08-11 12:35:22,869] Trial 38 finished with value: 7127221.561192067 and parameters: {'n_estimators': 1200, 'max_depth': 6, 'learning_rate': 0.03616384821336657, 'subsample': 0.7838751327885944, 'colsample_bytree': 0.6969623046297504, 'min_child_weight': 0.8594207927233543, 'reg_alpha': 0.005380024101035186, 'reg_lambda': 0.043837966641682165, 'gamma': 1.4079398385485278}. Best is trial 28 with value: 6653869.440662742.\n"
          ]
        },
        {
          "name": "stderr",
          "output_type": "stream",
          "text": [
            "Best trial: 28. Best value: 6.65387e+06:  80%|████████  | 40/50 [07:21<02:10, 13.00s/it]"
          ]
        },
        {
          "name": "stdout",
          "output_type": "stream",
          "text": [
            "[I 2025-08-11 12:35:36,568] Trial 39 finished with value: 7420442.934951691 and parameters: {'n_estimators': 1000, 'max_depth': 7, 'learning_rate': 0.002076292815359428, 'subsample': 0.7437653952025316, 'colsample_bytree': 0.9679109190898402, 'min_child_weight': 0.5843460486986926, 'reg_alpha': 0.026461305365180158, 'reg_lambda': 0.5011490141299875, 'gamma': 2.5458872174526355}. Best is trial 28 with value: 6653869.440662742.\n"
          ]
        },
        {
          "name": "stderr",
          "output_type": "stream",
          "text": [
            "Best trial: 28. Best value: 6.65387e+06:  82%|████████▏ | 41/50 [07:36<02:03, 13.70s/it]"
          ]
        },
        {
          "name": "stdout",
          "output_type": "stream",
          "text": [
            "[I 2025-08-11 12:35:51,892] Trial 40 finished with value: 7195246.453997585 and parameters: {'n_estimators': 1500, 'max_depth': 5, 'learning_rate': 0.00449546997488915, 'subsample': 0.8921931900447706, 'colsample_bytree': 0.9991052972000347, 'min_child_weight': 4.120330676763257, 'reg_alpha': 0.0007051905172737692, 'reg_lambda': 3.589171736559923, 'gamma': 2.1907153129825736}. Best is trial 28 with value: 6653869.440662742.\n"
          ]
        },
        {
          "name": "stderr",
          "output_type": "stream",
          "text": [
            "Best trial: 41. Best value: 6.60472e+06:  84%|████████▍ | 42/50 [07:51<01:51, 13.97s/it]"
          ]
        },
        {
          "name": "stdout",
          "output_type": "stream",
          "text": [
            "[I 2025-08-11 12:36:06,502] Trial 41 finished with value: 6604719.346123189 and parameters: {'n_estimators': 1400, 'max_depth': 5, 'learning_rate': 0.005705166678227775, 'subsample': 0.7413757770291175, 'colsample_bytree': 0.9994714322643866, 'min_child_weight': 0.17910042425071548, 'reg_alpha': 0.007494791533839693, 'reg_lambda': 0.17564538224251142, 'gamma': 0.640560178891791}. Best is trial 41 with value: 6604719.346123189.\n"
          ]
        },
        {
          "name": "stderr",
          "output_type": "stream",
          "text": [
            "Best trial: 42. Best value: 6.57258e+06:  86%|████████▌ | 43/50 [08:06<01:41, 14.43s/it]"
          ]
        },
        {
          "name": "stdout",
          "output_type": "stream",
          "text": [
            "[I 2025-08-11 12:36:22,004] Trial 42 finished with value: 6572581.6545440825 and parameters: {'n_estimators': 1300, 'max_depth': 6, 'learning_rate': 0.007446888956149069, 'subsample': 0.7330540872139371, 'colsample_bytree': 0.9671773327433728, 'min_child_weight': 0.10611568276980807, 'reg_alpha': 0.004924721165808119, 'reg_lambda': 0.18291866793554443, 'gamma': 0.49756448892703137}. Best is trial 42 with value: 6572581.6545440825.\n"
          ]
        },
        {
          "name": "stderr",
          "output_type": "stream",
          "text": [
            "Best trial: 42. Best value: 6.57258e+06:  88%|████████▊ | 44/50 [08:23<01:30, 15.11s/it]"
          ]
        },
        {
          "name": "stdout",
          "output_type": "stream",
          "text": [
            "[I 2025-08-11 12:36:38,706] Trial 43 finished with value: 7896493.5200000005 and parameters: {'n_estimators': 1400, 'max_depth': 6, 'learning_rate': 0.0010543761097177896, 'subsample': 0.6771291535654584, 'colsample_bytree': 0.9136136177689455, 'min_child_weight': 0.1148117507378634, 'reg_alpha': 0.004239750964179832, 'reg_lambda': 0.024893551902909775, 'gamma': 0.03775120046079028}. Best is trial 42 with value: 6572581.6545440825.\n"
          ]
        },
        {
          "name": "stderr",
          "output_type": "stream",
          "text": [
            "Best trial: 42. Best value: 6.57258e+06:  90%|█████████ | 45/50 [08:40<01:19, 15.91s/it]"
          ]
        },
        {
          "name": "stdout",
          "output_type": "stream",
          "text": [
            "[I 2025-08-11 12:36:56,488] Trial 44 finished with value: 6763845.691737622 and parameters: {'n_estimators': 1300, 'max_depth': 7, 'learning_rate': 0.007795587437964895, 'subsample': 0.733817679281635, 'colsample_bytree': 0.9645343428217522, 'min_child_weight': 0.3147424169162944, 'reg_alpha': 0.03255290930284211, 'reg_lambda': 0.054088806617651766, 'gamma': 0.5572877655942315}. Best is trial 42 with value: 6572581.6545440825.\n"
          ]
        },
        {
          "name": "stderr",
          "output_type": "stream",
          "text": [
            "Best trial: 42. Best value: 6.57258e+06:  92%|█████████▏| 46/50 [09:04<01:13, 18.28s/it]"
          ]
        },
        {
          "name": "stdout",
          "output_type": "stream",
          "text": [
            "[I 2025-08-11 12:37:20,293] Trial 45 finished with value: 6886106.696679498 and parameters: {'n_estimators': 1600, 'max_depth': 8, 'learning_rate': 0.011469800427666911, 'subsample': 0.6266632394437242, 'colsample_bytree': 0.9163406240929797, 'min_child_weight': 0.1657396714743959, 'reg_alpha': 0.0005271179541648752, 'reg_lambda': 0.3944993009410309, 'gamma': 0.9528014457177685}. Best is trial 42 with value: 6572581.6545440825.\n"
          ]
        },
        {
          "name": "stderr",
          "output_type": "stream",
          "text": [
            "Best trial: 42. Best value: 6.57258e+06:  94%|█████████▍| 47/50 [09:19<00:51, 17.25s/it]"
          ]
        },
        {
          "name": "stdout",
          "output_type": "stream",
          "text": [
            "[I 2025-08-11 12:37:35,153] Trial 46 finished with value: 7594856.158486565 and parameters: {'n_estimators': 1300, 'max_depth': 6, 'learning_rate': 0.02039923685111943, 'subsample': 0.7935592018997207, 'colsample_bytree': 0.5178959100224025, 'min_child_weight': 0.096855980288945, 'reg_alpha': 0.013275773043388507, 'reg_lambda': 0.2408111842022541, 'gamma': 0.2482218270086031}. Best is trial 42 with value: 6572581.6545440825.\n"
          ]
        },
        {
          "name": "stderr",
          "output_type": "stream",
          "text": [
            "Best trial: 42. Best value: 6.57258e+06:  96%|█████████▌| 48/50 [09:28<00:29, 14.66s/it]"
          ]
        },
        {
          "name": "stdout",
          "output_type": "stream",
          "text": [
            "[I 2025-08-11 12:37:43,755] Trial 47 finished with value: 7048618.435567632 and parameters: {'n_estimators': 1000, 'max_depth': 4, 'learning_rate': 0.0034836614678764393, 'subsample': 0.7002520389887711, 'colsample_bytree': 0.9739525364613145, 'min_child_weight': 0.2514647224710321, 'reg_alpha': 0.05013288141101887, 'reg_lambda': 1.0202574371202406, 'gamma': 0.4405466090500113}. Best is trial 42 with value: 6572581.6545440825.\n"
          ]
        },
        {
          "name": "stderr",
          "output_type": "stream",
          "text": [
            "Best trial: 42. Best value: 6.57258e+06:  98%|█████████▊| 49/50 [09:47<00:15, 15.99s/it]"
          ]
        },
        {
          "name": "stdout",
          "output_type": "stream",
          "text": [
            "[I 2025-08-11 12:38:02,847] Trial 48 finished with value: 7105931.820821257 and parameters: {'n_estimators': 1900, 'max_depth': 5, 'learning_rate': 0.0077574337695854555, 'subsample': 0.7562090875828404, 'colsample_bytree': 0.64492282707787, 'min_child_weight': 0.38758301734107914, 'reg_alpha': 0.003033118490411531, 'reg_lambda': 0.026999084368983992, 'gamma': 0.8257716920494361}. Best is trial 42 with value: 6572581.6545440825.\n"
          ]
        },
        {
          "name": "stderr",
          "output_type": "stream",
          "text": [
            "Best trial: 42. Best value: 6.57258e+06: 100%|██████████| 50/50 [09:58<00:00, 11.96s/it]"
          ]
        },
        {
          "name": "stdout",
          "output_type": "stream",
          "text": [
            "[I 2025-08-11 12:38:13,511] Trial 49 finished with value: 6833079.459625604 and parameters: {'n_estimators': 1500, 'max_depth': 3, 'learning_rate': 0.011415145736001199, 'subsample': 0.8484256851780656, 'colsample_bytree': 0.9251254441667912, 'min_child_weight': 0.08335698975644734, 'reg_alpha': 0.0014009521965033978, 'reg_lambda': 0.16707387465175502, 'gamma': 1.2567776497341505}. Best is trial 42 with value: 6572581.6545440825.\n"
          ]
        },
        {
          "name": "stderr",
          "output_type": "stream",
          "text": [
            "\n"
          ]
        }
      ],
      "source": [
        "sampler = TPESampler(seed=RANDOM_SEED)\n",
        "study = optuna.create_study(direction=\"minimize\", sampler=sampler)\n",
        "objective = objective_factory(X, y, folds)\n",
        "study.optimize(objective, n_trials=50, show_progress_bar=True)"
      ]
    },
    {
      "cell_type": "code",
      "execution_count": 13,
      "metadata": {},
      "outputs": [
        {
          "name": "stdout",
          "output_type": "stream",
          "text": [
            "Best Optuna MAE: 6572581.6545440825\n",
            "Best Params:\n",
            "{\n",
            "  \"n_estimators\": 1300,\n",
            "  \"max_depth\": 6,\n",
            "  \"learning_rate\": 0.007446888956149069,\n",
            "  \"subsample\": 0.7330540872139371,\n",
            "  \"colsample_bytree\": 0.9671773327433728,\n",
            "  \"min_child_weight\": 0.10611568276980807,\n",
            "  \"reg_alpha\": 0.004924721165808119,\n",
            "  \"reg_lambda\": 0.18291866793554443,\n",
            "  \"gamma\": 0.49756448892703137\n",
            "}\n"
          ]
        }
      ],
      "source": [
        "best_params = study.best_trial.params\n",
        "final_model = train_final_model(X, y, best_params)\n",
        "save_artifacts(final_model, study, feature_names)\n",
        "print(\"Best Optuna MAE:\", study.best_value)\n",
        "print(\"Best Params:\")\n",
        "print(json.dumps(best_params, indent=2))"
      ]
    }
  ],
  "metadata": {
    "kernelspec": {
      "display_name": ".venv",
      "language": "python",
      "name": "python3"
    },
    "language_info": {
      "codemirror_mode": {
        "name": "ipython",
        "version": 3
      },
      "file_extension": ".py",
      "mimetype": "text/x-python",
      "name": "python",
      "nbconvert_exporter": "python",
      "pygments_lexer": "ipython3",
      "version": "3.10.16"
    }
  },
  "nbformat": 4,
  "nbformat_minor": 2
}
