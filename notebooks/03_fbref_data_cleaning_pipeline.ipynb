{
 "cells": [
  {
   "cell_type": "markdown",
   "metadata": {},
   "source": [
    "## Simplified Data Cleaning Pipeline for FBRef"
   ]
  },
  {
   "cell_type": "code",
   "execution_count": 3,
   "metadata": {},
   "outputs": [
    {
     "name": "stdout",
     "output_type": "stream",
     "text": [
      "Saved: ../data/interim/Valencia CF/fbref/df_player_stats_2223.csv\n",
      "Saved: ../data/interim/Valencia CF/fbref/df_player_shooting_2223.csv\n",
      "Saved: ../data/interim/Valencia CF/fbref/df_player_passing_2223.csv\n",
      "Saved: ../data/interim/Valencia CF/fbref/df_player_passing_types_2223.csv\n",
      "Saved: ../data/interim/Valencia CF/fbref/df_player_gca_2223.csv\n",
      "Saved: ../data/interim/Valencia CF/fbref/df_player_defense_2223.csv\n",
      "Saved: ../data/interim/Valencia CF/fbref/df_player_possession_2223.csv\n",
      "Saved: ../data/interim/Valencia CF/fbref/df_player_stats_2324.csv\n",
      "Saved: ../data/interim/Valencia CF/fbref/df_player_shooting_2324.csv\n",
      "Saved: ../data/interim/Valencia CF/fbref/df_player_passing_2324.csv\n",
      "Saved: ../data/interim/Valencia CF/fbref/df_player_passing_types_2324.csv\n",
      "Saved: ../data/interim/Valencia CF/fbref/df_player_gca_2324.csv\n",
      "Saved: ../data/interim/Valencia CF/fbref/df_player_defense_2324.csv\n",
      "Saved: ../data/interim/Valencia CF/fbref/df_player_possession_2324.csv\n",
      "Saved: ../data/interim/Valencia CF/fbref/df_player_stats_2425.csv\n",
      "Saved: ../data/interim/Valencia CF/fbref/df_player_shooting_2425.csv\n",
      "Saved: ../data/interim/Valencia CF/fbref/df_player_passing_2425.csv\n",
      "Saved: ../data/interim/Valencia CF/fbref/df_player_passing_types_2425.csv\n",
      "Saved: ../data/interim/Valencia CF/fbref/df_player_gca_2425.csv\n",
      "Saved: ../data/interim/Valencia CF/fbref/df_player_defense_2425.csv\n",
      "Saved: ../data/interim/Valencia CF/fbref/df_player_possession_2425.csv\n"
     ]
    }
   ],
   "source": [
    "from pathlib import Path\n",
    "import sys\n",
    "sys.path.append(\"..\")\n",
    "\n",
    "from src.preprocessing.clean_fbref_data import (\n",
    "    load_fbref_season_data,\n",
    "    drop_matches_column,\n",
    "    find_players_in_multiple_seasons,\n",
    "    add_age_from_latest_season,\n",
    "    save_to_interim\n",
    ")\n",
    "\n",
    "team_name = \"Valencia CF\"\n",
    "raw_base = Path(\"..\", \"data\", \"raw\", team_name, \"fbref\")\n",
    "\n",
    "# Load all season data\n",
    "data_2223 = load_fbref_season_data(\"2223\", raw_base)\n",
    "data_2324 = load_fbref_season_data(\"2324\", raw_base)\n",
    "data_2425 = load_fbref_season_data(\"2425\", raw_base)\n",
    "\n",
    "# Combine all into one dict\n",
    "all_data = {**data_2223, **data_2324, **data_2425}\n",
    "\n",
    "# Clean noisy columns\n",
    "all_data = drop_matches_column(all_data)\n",
    "\n",
    "# Extract continuity tracking (optional, if needed)\n",
    "season_stats = [\n",
    "    (data_2223[\"df_player_stats_2223\"], \"2223\"),\n",
    "    (data_2324[\"df_player_stats_2324\"], \"2324\"),\n",
    "    (data_2425[\"df_player_stats_2425\"], \"2425\"),\n",
    "]\n",
    "multi_season_players = find_players_in_multiple_seasons(season_stats)\n",
    "multi_season_players = add_age_from_latest_season(multi_season_players, data_2425[\"df_player_stats_2425\"])\n",
    "\n",
    "# Save cleaned output\n",
    "save_to_interim(all_data, team_name)"
   ]
  },
  {
   "cell_type": "code",
   "execution_count": null,
   "metadata": {},
   "outputs": [],
   "source": []
  }
 ],
 "metadata": {
  "kernelspec": {
   "display_name": ".venv",
   "language": "python",
   "name": "python3"
  },
  "language_info": {
   "codemirror_mode": {
    "name": "ipython",
    "version": 3
   },
   "file_extension": ".py",
   "mimetype": "text/x-python",
   "name": "python",
   "nbconvert_exporter": "python",
   "pygments_lexer": "ipython3",
   "version": "3.10.16"
  }
 },
 "nbformat": 4,
 "nbformat_minor": 2
}
