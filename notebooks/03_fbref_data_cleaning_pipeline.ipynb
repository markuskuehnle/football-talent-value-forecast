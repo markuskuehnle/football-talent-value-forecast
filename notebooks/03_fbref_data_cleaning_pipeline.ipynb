{
 "cells": [
  {
   "cell_type": "markdown",
   "metadata": {},
   "source": [
    "## Simplified Data Cleaning Pipeline for FBRef"
   ]
  },
  {
   "cell_type": "code",
   "execution_count": null,
   "metadata": {},
   "outputs": [],
   "source": [
    "from pathlib import Path\n",
    "from src.preprocessing.clean_fbref import (\n",
    "    load_fbref_season_data,\n",
    "    drop_matches_column,\n",
    "    find_players_in_multiple_seasons,\n",
    "    add_age_from_latest_season,\n",
    "    save_to_interim\n",
    ")\n",
    "\n",
    "team_name = \"Valencia CF\"\n",
    "raw_base = Path(\"..\", \"data\", \"raw\", team_name, \"fbref\")\n",
    "\n",
    "# Load all season data\n",
    "data_2223 = load_fbref_season_data(\"2223\", raw_base)\n",
    "data_2324 = load_fbref_season_data(\"2324\", raw_base)\n",
    "data_2425 = load_fbref_season_data(\"2425\", raw_base)\n",
    "\n",
    "# Combine all into one dict\n",
    "all_data = {**data_2223, **data_2324, **data_2425}\n",
    "\n",
    "# Clean noisy columns\n",
    "all_data = drop_matches_column(all_data)\n",
    "\n",
    "# Extract continuity tracking (optional, if needed)\n",
    "season_stats = [\n",
    "    (data_2223[\"df_player_stats_2223\"], \"2223\"),\n",
    "    (data_2324[\"df_player_stats_2324\"], \"2324\"),\n",
    "    (data_2425[\"df_player_stats_2425\"], \"2425\"),\n",
    "]\n",
    "multi_season_players = find_players_in_multiple_seasons(season_stats)\n",
    "multi_season_players = add_age_from_latest_season(multi_season_players, data_2425[\"df_player_stats_2425\"])\n",
    "\n",
    "# Save cleaned output\n",
    "save_to_interim(all_data, team_name)"
   ]
  }
 ],
 "metadata": {
  "language_info": {
   "name": "python"
  }
 },
 "nbformat": 4,
 "nbformat_minor": 2
}
