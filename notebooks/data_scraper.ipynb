{
 "cells": [
  {
   "cell_type": "code",
   "execution_count": 1,
   "id": "85eb92ca",
   "metadata": {},
   "outputs": [],
   "source": [
    "import pandas as pd\n",
    "import time, random, requests\n",
    "from pathlib import Path\n",
    "import inspect, sys"
   ]
  },
  {
   "cell_type": "markdown",
   "id": "2fccd411",
   "metadata": {},
   "source": [
    "## Scrape Valencia data from FBref\n",
    "- Saved to CSV files in notebooks/data/raw to avoid hitting HTTP request limit\n",
    "- Will comment the code to not run it (unless needed)"
   ]
  },
  {
   "cell_type": "code",
   "execution_count": null,
   "id": "9a090093",
   "metadata": {},
   "outputs": [],
   "source": [
    "'''\n",
    "# Current season 2024-2025\n",
    "df_player_stats_2425 = pd.read_html('https://fbref.com/en/squads/dcc91a7b/Valencia-Stats', attrs={\"id\": \"stats_standard_12\"})[0]\n",
    "df_player_shooting_2425 = pd.read_html('https://fbref.com/en/squads/dcc91a7b/Valencia-Stats', attrs={\"id\": \"stats_shooting_12\"})[0]\n",
    "df_player_passing_2425 = pd.read_html('https://fbref.com/en/squads/dcc91a7b/Valencia-Stats', attrs={\"id\": \"stats_passing_12\"})[0]\n",
    "df_player_passing_types_2425 = pd.read_html('https://fbref.com/en/squads/dcc91a7b/Valencia-Stats', attrs={\"id\": \"stats_passing_types_12\"})[0]\n",
    "df_player_gca_2425 = pd.read_html('https://fbref.com/en/squads/dcc91a7b/Valencia-Stats', attrs={\"id\": \"stats_gca_12\"})[0]\n",
    "df_player_defense_2425 = pd.read_html('https://fbref.com/en/squads/dcc91a7b/Valencia-Stats', attrs={\"id\": \"stats_defense_12\"})[0]\n",
    "df_player_possession_2425 = pd.read_html('https://fbref.com/en/squads/dcc91a7b/Valencia-Stats', attrs={\"id\": \"stats_possession_12\"})[0]\n",
    "'''"
   ]
  },
  {
   "cell_type": "code",
   "execution_count": null,
   "id": "3274094a",
   "metadata": {},
   "outputs": [],
   "source": [
    "'''\n",
    "# Season 2023-2024\n",
    "df_player_stats_2324 = pd.read_html('https://fbref.com/en/squads/dcc91a7b/2023-2024/Valencia-Stats', attrs={\"id\": \"stats_standard_12\"})[0]\n",
    "df_player_shooting_2324 = pd.read_html('https://fbref.com/en/squads/dcc91a7b/2023-2024/Valencia-Stats', attrs={\"id\": \"stats_shooting_12\"})[0]\n",
    "df_player_passing_2324 = pd.read_html('https://fbref.com/en/squads/dcc91a7b/2023-2024/Valencia-Stats', attrs={\"id\": \"stats_passing_12\"})[0]\n",
    "df_player_passing_types_2324 = pd.read_html('https://fbref.com/en/squads/dcc91a7b/2023-2024/Valencia-Stats', attrs={\"id\": \"stats_passing_types_12\"})[0]\n",
    "df_player_gca_2324 = pd.read_html('https://fbref.com/en/squads/dcc91a7b/2023-2024/Valencia-Stats', attrs={\"id\": \"stats_gca_12\"})[0]\n",
    "df_player_defense_2324 = pd.read_html('https://fbref.com/en/squads/dcc91a7b/2023-2024/Valencia-Stats', attrs={\"id\": \"stats_defense_12\"})[0]\n",
    "df_player_possession_2324 = pd.read_html('https://fbref.com/en/squads/dcc91a7b/2023-2024/Valencia-Stats', attrs={\"id\": \"stats_possession_12\"})[0]\n",
    "'''"
   ]
  },
  {
   "cell_type": "code",
   "execution_count": null,
   "id": "2b0d8ee4",
   "metadata": {},
   "outputs": [],
   "source": [
    "'''\n",
    "# Season 2022-2023\n",
    "df_player_stats_2223 = pd.read_html('https://fbref.com/en/squads/dcc91a7b/2022-2023/Valencia-Stats', attrs={\"id\": \"stats_standard_12\"})[0]\n",
    "df_player_shooting_2223 = pd.read_html('https://fbref.com/en/squads/dcc91a7b/2022-2023/Valencia-Stats', attrs={\"id\": \"stats_shooting_12\"})[0]\n",
    "df_player_passing_2223 = pd.read_html('https://fbref.com/en/squads/dcc91a7b/2022-2023/Valencia-Stats', attrs={\"id\": \"stats_passing_12\"})[0]\n",
    "df_player_passing_types_2223 = pd.read_html('https://fbref.com/en/squads/dcc91a7b/2022-2023/Valencia-Stats', attrs={\"id\": \"stats_passing_types_12\"})[0]\n",
    "df_player_gca_2223 = pd.read_html('https://fbref.com/en/squads/dcc91a7b/2022-2023/Valencia-Stats', attrs={\"id\": \"stats_gca_12\"})[0]\n",
    "df_player_defense_2223 = pd.read_html('https://fbref.com/en/squads/dcc91a7b/2022-2023/Valencia-Stats', attrs={\"id\": \"stats_defense_12\"})[0]\n",
    "df_player_possession_2223 = pd.read_html('https://fbref.com/en/squads/dcc91a7b/2022-2023/Valencia-Stats', attrs={\"id\": \"stats_possession_12\"})[0]\n",
    "'''"
   ]
  },
  {
   "cell_type": "code",
   "execution_count": null,
   "id": "df5cbd03",
   "metadata": {},
   "outputs": [
    {
     "name": "stdout",
     "output_type": "stream",
     "text": [
      "✔️  data/raw/df_player_stats_2425.csv\n",
      "✔️  data/raw/df_player_shooting_2425.csv\n",
      "✔️  data/raw/df_player_passing_2425.csv\n",
      "✔️  data/raw/df_player_passing_types_2425.csv\n",
      "✔️  data/raw/df_player_gca_2425.csv\n",
      "✔️  data/raw/df_player_defense_2425.csv\n",
      "✔️  data/raw/df_player_possession_2425.csv\n",
      "✔️  data/raw/df_player_stats_2324.csv\n",
      "✔️  data/raw/df_player_shooting_2324.csv\n",
      "✔️  data/raw/df_player_passing_2324.csv\n",
      "✔️  data/raw/df_player_passing_types_2324.csv\n",
      "✔️  data/raw/df_player_gca_2324.csv\n",
      "✔️  data/raw/df_player_defense_2324.csv\n",
      "✔️  data/raw/df_player_possession_2324.csv\n",
      "✔️  data/raw/df_player_stats_2223.csv\n",
      "✔️  data/raw/df_player_shooting_2223.csv\n",
      "✔️  data/raw/df_player_passing_2223.csv\n",
      "✔️  data/raw/df_player_passing_types_2223.csv\n",
      "✔️  data/raw/df_player_gca_2223.csv\n",
      "✔️  data/raw/df_player_defense_2223.csv\n",
      "✔️  data/raw/df_player_possession_2223.csv\n"
     ]
    }
   ],
   "source": [
    "'''\n",
    "##### Save all dataframes to CSV files for future use #####\n",
    "\n",
    "# 1 Folder →  data/raw   (create if it doesn't exist)\n",
    "\n",
    "RAW_DIR = Path(\"data\", \"raw\")\n",
    "RAW_DIR.mkdir(parents=True, exist_ok=True)\n",
    "\n",
    "# 2 Find every variable in the notebook whose name starts with df_\n",
    "frames = {\n",
    "    name: obj\n",
    "    for name, obj in globals().items()\n",
    "    if name.startswith(\"df_\") and isinstance(obj, pd.DataFrame)\n",
    "}\n",
    "\n",
    "# 3  Save each DataFrame to CSV\n",
    "for name, df in frames.items():\n",
    "    filepath = RAW_DIR / f\"{name}.csv\"\n",
    "    df.to_csv(filepath, index=False)\n",
    "    print(f\"✔️  {filepath}\")\n",
    "'''\n"
   ]
  },
  {
   "cell_type": "markdown",
   "id": "2fb2de61",
   "metadata": {},
   "source": [
    "## Data exploration"
   ]
  },
  {
   "cell_type": "code",
   "execution_count": null,
   "id": "58fcd41e",
   "metadata": {},
   "outputs": [],
   "source": [
    "pd.set_option('display.max_columns', None)\n",
    "pd.set_option('display.max_rows', None)"
   ]
  },
  {
   "cell_type": "code",
   "execution_count": 14,
   "id": "4584df3b",
   "metadata": {},
   "outputs": [],
   "source": [
    "# Season 2024-2025\n",
    "df_player_stats_2425 = pd.read_csv('/Users/riadanas/football-talent-value-forecast/notebooks/data/raw/df_player_stats_2425.csv')\n",
    "df_player_shooting_2425 = pd.read_csv('/Users/riadanas/football-talent-value-forecast/notebooks/data/raw/df_player_shooting_2425.csv')\n",
    "df_player_passing_2425 = pd.read_csv('/Users/riadanas/football-talent-value-forecast/notebooks/data/raw/df_player_passing_2425.csv')\n",
    "df_player_passing_types_2425 = pd.read_csv('/Users/riadanas/football-talent-value-forecast/notebooks/data/raw/df_player_passing_types_2425.csv')\n",
    "df_player_gca_2425 = pd.read_csv('/Users/riadanas/football-talent-value-forecast/notebooks/data/raw/df_player_gca_2425.csv')\n",
    "df_player_defense_2425 = pd.read_csv('/Users/riadanas/football-talent-value-forecast/notebooks/data/raw/df_player_defense_2425.csv')\n",
    "df_player_possession_2425 = pd.read_csv('/Users/riadanas/football-talent-value-forecast/notebooks/data/raw/df_player_possession_2425.csv')\n",
    "\n",
    "# Season 2023-2024\n",
    "df_player_stats_2324 = pd.read_csv('/Users/riadanas/football-talent-value-forecast/notebooks/data/raw/df_player_stats_2324.csv')\n",
    "df_player_shooting_2324 = pd.read_csv('/Users/riadanas/football-talent-value-forecast/notebooks/data/raw/df_player_shooting_2324.csv')          \n",
    "df_player_passing_2324 = pd.read_csv('/Users/riadanas/football-talent-value-forecast/notebooks/data/raw/df_player_passing_2324.csv')\n",
    "df_player_passing_types_2324 = pd.read_csv('/Users/riadanas/football-talent-value-forecast/notebooks/data/raw/df_player_passing_types_2324.csv')\n",
    "df_player_gca_2324 = pd.read_csv('/Users/riadanas/football-talent-value-forecast/notebooks/data/raw/df_player_gca_2324.csv')\n",
    "df_player_defense_2324 = pd.read_csv('/Users/riadanas/football-talent-value-forecast/notebooks/data/raw/df_player_defense_2324.csv')\n",
    "df_player_possession_2324 = pd.read_csv('/Users/riadanas/football-talent-value-forecast/notebooks/data/raw/df_player_possession_2324.csv')\n",
    "\n",
    "# Season 2022-2023\n",
    "df_player_stats_2223 = pd.read_csv('/Users/riadanas/football-talent-value-forecast/notebooks/data/raw/df_player_stats_2223.csv')\n",
    "df_player_shooting_2223 = pd.read_csv('/Users/riadanas/football-talent-value-forecast/notebooks/data/raw/df_player_shooting_2223.csv')\n",
    "df_player_passing_2223 = pd.read_csv('/Users/riadanas/football-talent-value-forecast/notebooks/data/raw/df_player_passing_2223.csv')\n",
    "df_player_passing_types_2223 = pd.read_csv('/Users/riadanas/football-talent-value-forecast/notebooks/data/raw/df_player_passing_types_2223.csv')        \n",
    "df_player_gca_2223 = pd.read_csv('/Users/riadanas/football-talent-value-forecast/notebooks/data/raw/df_player_gca_2223.csv')\n",
    "df_player_defense_2223 = pd.read_csv('/Users/riadanas/football-talent-value-forecast/notebooks/data/raw/df_player_defense_2223.csv')\n",
    "df_player_possession_2223 = pd.read_csv('/Users/riadanas/football-talent-value-forecast/notebooks/data/raw/df_player_possession_2223.csv')"
   ]
  },
  {
   "cell_type": "code",
   "execution_count": null,
   "id": "bf79350a",
   "metadata": {},
   "outputs": [],
   "source": []
  }
 ],
 "metadata": {
  "kernelspec": {
   "display_name": ".football-talent-env",
   "language": "python",
   "name": "python3"
  },
  "language_info": {
   "codemirror_mode": {
    "name": "ipython",
    "version": 3
   },
   "file_extension": ".py",
   "mimetype": "text/x-python",
   "name": "python",
   "nbconvert_exporter": "python",
   "pygments_lexer": "ipython3",
   "version": "3.13.1"
  }
 },
 "nbformat": 4,
 "nbformat_minor": 5
}
