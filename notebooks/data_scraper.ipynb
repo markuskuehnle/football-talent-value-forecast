{
 "cells": [
  {
   "cell_type": "code",
   "execution_count": 1,
   "id": "85eb92ca",
   "metadata": {},
   "outputs": [],
   "source": [
    "import pandas as pd\n",
    "import time, random, requests\n",
    "from pathlib import Path\n",
    "import inspect, sys"
   ]
  },
  {
   "cell_type": "code",
   "execution_count": null,
   "id": "66a97659",
   "metadata": {},
   "outputs": [],
   "source": [
    "# This is used to include wait time between requests to avoid being blocked \n",
    "# keep the true function so we can still call it\n",
    "_orig_read_html = pd.read_html\n",
    "\n",
    "def read_html_polite(url, *args, **kwargs):\n",
    "    \"\"\"\n",
    "    Drop-in replacement for pandas.read_html that\n",
    "    • fetches the URL with realistic headers,\n",
    "    • sleeps 3-6 s afterward (polite),\n",
    "    • then lets pandas parse the HTML.\n",
    "    Works for every place you already call pd.read_html.\n",
    "    \"\"\"\n",
    "    # If the first arg is an http(s) URL we fetch it ourselves\n",
    "    if isinstance(url, str) and url.startswith((\"http://\", \"https://\")):\n",
    "        headers = {\n",
    "            \"User-Agent\": (\n",
    "                \"Mozilla/5.0 (Macintosh; Intel Mac OS X 10_15_7) \"\n",
    "                \"AppleWebKit/537.36 (KHTML, like Gecko) \"\n",
    "                \"Chrome/124.0 Safari/537.36\"\n",
    "            )\n",
    "        }\n",
    "        resp = requests.get(url, headers=headers, timeout=20)\n",
    "        \n",
    "        # quick & simple retry on 429\n",
    "        if resp.status_code == 429:\n",
    "            time.sleep(30)               # wait 30 s, then one more try\n",
    "            resp = requests.get(url, headers=headers, timeout=20)\n",
    "\n",
    "        resp.raise_for_status()          # still bad? → raise the HTTP error\n",
    "        html = resp.text\n",
    "\n",
    "        # polite random delay\n",
    "        time.sleep(random.uniform(3, 6))\n",
    "\n",
    "        return _orig_read_html(html, *args, **kwargs)\n",
    "\n",
    "    # Otherwise (local file / string) just call the original\n",
    "    return _orig_read_html(url, *args, **kwargs)\n",
    "\n",
    "# monkey-patch pandas so every subsequent call uses the polite version\n",
    "pd.read_html = read_html_polite\n"
   ]
  },
  {
   "cell_type": "code",
   "execution_count": null,
   "id": "9a090093",
   "metadata": {},
   "outputs": [],
   "source": [
    "# Current season 2024-2025\n",
    "df_player_stats_2425 = pd.read_html('https://fbref.com/en/squads/dcc91a7b/Valencia-Stats', attrs={\"id\": \"stats_standard_12\"})[0]\n",
    "df_player_shooting_2425 = pd.read_html('https://fbref.com/en/squads/dcc91a7b/Valencia-Stats', attrs={\"id\": \"stats_shooting_12\"})[0]\n",
    "df_player_passing_2425 = pd.read_html('https://fbref.com/en/squads/dcc91a7b/Valencia-Stats', attrs={\"id\": \"stats_passing_12\"})[0]\n",
    "df_player_passing_types_2425 = pd.read_html('https://fbref.com/en/squads/dcc91a7b/Valencia-Stats', attrs={\"id\": \"stats_passing_types_12\"})[0]\n",
    "df_player_gca_2425 = pd.read_html('https://fbref.com/en/squads/dcc91a7b/Valencia-Stats', attrs={\"id\": \"stats_gca_12\"})[0]\n",
    "df_player_defense_2425 = pd.read_html('https://fbref.com/en/squads/dcc91a7b/Valencia-Stats', attrs={\"id\": \"stats_defense_12\"})[0]\n",
    "df_player_possession_2425 = pd.read_html('https://fbref.com/en/squads/dcc91a7b/Valencia-Stats', attrs={\"id\": \"stats_possession_12\"})[0]"
   ]
  },
  {
   "cell_type": "code",
   "execution_count": null,
   "id": "3274094a",
   "metadata": {},
   "outputs": [],
   "source": [
    "# Season 2023-2024\n",
    "df_player_stats_2324 = pd.read_html('https://fbref.com/en/squads/dcc91a7b/2023-2024/Valencia-Stats', attrs={\"id\": \"stats_standard_12\"})[0]\n",
    "df_player_shooting_2324 = pd.read_html('https://fbref.com/en/squads/dcc91a7b/2023-2024/Valencia-Stats', attrs={\"id\": \"stats_shooting_12\"})[0]\n",
    "df_player_passing_2324 = pd.read_html('https://fbref.com/en/squads/dcc91a7b/2023-2024/Valencia-Stats', attrs={\"id\": \"stats_passing_12\"})[0]\n",
    "df_player_passing_types_2324 = pd.read_html('https://fbref.com/en/squads/dcc91a7b/2023-2024/Valencia-Stats', attrs={\"id\": \"stats_passing_types_12\"})[0]\n",
    "df_player_gca_2324 = pd.read_html('https://fbref.com/en/squads/dcc91a7b/2023-2024/Valencia-Stats', attrs={\"id\": \"stats_gca_12\"})[0]\n",
    "df_player_defense_2324 = pd.read_html('https://fbref.com/en/squads/dcc91a7b/2023-2024/Valencia-Stats', attrs={\"id\": \"stats_defense_12\"})[0]\n",
    "df_player_possession_2324 = pd.read_html('https://fbref.com/en/squads/dcc91a7b/2023-2024/Valencia-Stats', attrs={\"id\": \"stats_possession_12\"})[0]"
   ]
  },
  {
   "cell_type": "code",
   "execution_count": null,
   "id": "2b0d8ee4",
   "metadata": {},
   "outputs": [],
   "source": [
    "# Season 2022-2023\n",
    "df_player_stats_2223 = pd.read_html('https://fbref.com/en/squads/dcc91a7b/2022-2023/Valencia-Stats', attrs={\"id\": \"stats_standard_12\"})[0]\n",
    "df_player_shooting_2223 = pd.read_html('https://fbref.com/en/squads/dcc91a7b/2022-2023/Valencia-Stats', attrs={\"id\": \"stats_shooting_12\"})[0]\n",
    "df_player_passing_2223 = pd.read_html('https://fbref.com/en/squads/dcc91a7b/2022-2023/Valencia-Stats', attrs={\"id\": \"stats_passing_12\"})[0]\n",
    "df_player_passing_types_2223 = pd.read_html('https://fbref.com/en/squads/dcc91a7b/2022-2023/Valencia-Stats', attrs={\"id\": \"stats_passing_types_12\"})[0]\n",
    "df_player_gca_2223 = pd.read_html('https://fbref.com/en/squads/dcc91a7b/2022-2023/Valencia-Stats', attrs={\"id\": \"stats_gca_12\"})[0]\n",
    "df_player_defense_2223 = pd.read_html('https://fbref.com/en/squads/dcc91a7b/2022-2023/Valencia-Stats', attrs={\"id\": \"stats_defense_12\"})[0]\n",
    "df_player_possession_2223 = pd.read_html('https://fbref.com/en/squads/dcc91a7b/2022-2023/Valencia-Stats', attrs={\"id\": \"stats_possession_12\"})[0]"
   ]
  },
  {
   "cell_type": "code",
   "execution_count": null,
   "id": "58fcd41e",
   "metadata": {},
   "outputs": [],
   "source": [
    "pd.set_option('display.max_columns', None)\n",
    "pd.set_option('display.max_rows', None)"
   ]
  },
  {
   "cell_type": "code",
   "execution_count": null,
   "id": "223b24ca",
   "metadata": {},
   "outputs": [],
   "source": [
    "df_player_stats_2425.head()"
   ]
  },
  {
   "cell_type": "code",
   "execution_count": null,
   "id": "4584df3b",
   "metadata": {},
   "outputs": [],
   "source": [
    "# 1 Folder →  data/raw   (create if it doesn't exist)\n",
    "\n",
    "RAW_DIR = Path(\"data\", \"raw\")\n",
    "RAW_DIR.mkdir(parents=True, exist_ok=True)\n",
    "\n",
    "# 2 Find every variable in the notebook whose name starts with df_\n",
    "frames = {\n",
    "    name: obj\n",
    "    for name, obj in globals().items()\n",
    "    if name.startswith(\"df_\") and isinstance(obj, pd.DataFrame)\n",
    "}\n",
    "\n",
    "# 3  Save each DataFrame to CSV\n",
    "for name, df in frames.items():\n",
    "    filepath = RAW_DIR / f\"{name}.csv\"\n",
    "    df.to_csv(filepath, index=False)\n",
    "    print(f\"✔️  {filepath}\")"
   ]
  }
 ],
 "metadata": {
  "kernelspec": {
   "display_name": ".football-talent-env",
   "language": "python",
   "name": "python3"
  },
  "language_info": {
   "codemirror_mode": {
    "name": "ipython",
    "version": 3
   },
   "file_extension": ".py",
   "mimetype": "text/x-python",
   "name": "python",
   "nbconvert_exporter": "python",
   "pygments_lexer": "ipython3",
   "version": "3.13.1"
  }
 },
 "nbformat": 4,
 "nbformat_minor": 5
}
