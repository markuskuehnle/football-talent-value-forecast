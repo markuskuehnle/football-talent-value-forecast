{
 "cells": [
  {
   "cell_type": "markdown",
   "id": "40a13822",
   "metadata": {},
   "source": [
    "# 00 Data Scraper"
   ]
  },
  {
   "cell_type": "markdown",
   "id": "1debf442",
   "metadata": {},
   "source": [
    "This notebook scrapes structured player statistics for Valencia CF from [FBref](https://fbref.com) across three seasons (2022–2025). It includes:\n",
    "\n",
    "* **Seasonal data scraping:** Extracts 7 core stat tables (e.g. passing, defense, possession) for each season using `pandas.read_html` from public FBref squad pages\n",
    "* **Automated filename mapping:** Dynamically names and saves each table as a CSV in `data/raw/` using season and table type\n",
    "* **Rate limit protection:** Implements a request counter and 15-minute cooldown after 10 requests to avoid getting blocked by FBref\n",
    "* **Reproducible storage:** Skips already-downloaded files to prevent unnecessary re-fetches and ensure consistent local copies\n",
    "\n",
    "> Output of this notebook is a version-controlled local dump of raw FBref tables for further inspection, cleaning, and analysis. Scraper code is commented out after use to avoid accidental API overload."
   ]
  },
  {
   "cell_type": "code",
   "execution_count": 1,
   "id": "85eb92ca",
   "metadata": {},
   "outputs": [],
   "source": [
    "import pandas as pd\n",
    "from pathlib import Path\n",
    "import time\n",
    "import random"
   ]
  },
  {
   "cell_type": "code",
   "execution_count": 2,
   "id": "4ef3519b",
   "metadata": {},
   "outputs": [],
   "source": [
    "RAW_DIR = Path(\"..\", \"data\", \"raw\")\n",
    "RAW_DIR.mkdir(parents=True, exist_ok=True)"
   ]
  },
  {
   "cell_type": "markdown",
   "id": "2fccd411",
   "metadata": {},
   "source": [
    "## Scrape Valencia data from FBref\n",
    "- Saved to CSV files in notebooks/data/raw to avoid hitting HTTP request limit\n",
    "- Will comment the code to not run it (unless needed)"
   ]
  },
  {
   "cell_type": "code",
   "execution_count": 3,
   "id": "9a090093",
   "metadata": {},
   "outputs": [],
   "source": [
    "# # Current season 2024-2025\n",
    "# df_player_stats_2425 = pd.read_html('https://fbref.com/en/squads/dcc91a7b/Valencia-Stats', attrs={\"id\": \"stats_standard_12\"})[0]\n",
    "# df_player_shooting_2425 = pd.read_html('https://fbref.com/en/squads/dcc91a7b/Valencia-Stats', attrs={\"id\": \"stats_shooting_12\"})[0]\n",
    "# df_player_passing_2425 = pd.read_html('https://fbref.com/en/squads/dcc91a7b/Valencia-Stats', attrs={\"id\": \"stats_passing_12\"})[0]\n",
    "# df_player_passing_types_2425 = pd.read_html('https://fbref.com/en/squads/dcc91a7b/Valencia-Stats', attrs={\"id\": \"stats_passing_types_12\"})[0]\n",
    "# df_player_gca_2425 = pd.read_html('https://fbref.com/en/squads/dcc91a7b/Valencia-Stats', attrs={\"id\": \"stats_gca_12\"})[0]\n",
    "# df_player_defense_2425 = pd.read_html('https://fbref.com/en/squads/dcc91a7b/Valencia-Stats', attrs={\"id\": \"stats_defense_12\"})[0]\n",
    "# df_player_possession_2425 = pd.read_html('https://fbref.com/en/squads/dcc91a7b/Valencia-Stats', attrs={\"id\": \"stats_possession_12\"})[0]\n"
   ]
  },
  {
   "cell_type": "code",
   "execution_count": 4,
   "id": "3274094a",
   "metadata": {},
   "outputs": [],
   "source": [
    "# # Season 2023-2024\n",
    "# df_player_stats_2324 = pd.read_html('https://fbref.com/en/squads/dcc91a7b/2023-2024/Valencia-Stats', attrs={\"id\": \"stats_standard_12\"})[0]\n",
    "# df_player_shooting_2324 = pd.read_html('https://fbref.com/en/squads/dcc91a7b/2023-2024/Valencia-Stats', attrs={\"id\": \"stats_shooting_12\"})[0]\n",
    "# df_player_passing_2324 = pd.read_html('https://fbref.com/en/squads/dcc91a7b/2023-2024/Valencia-Stats', attrs={\"id\": \"stats_passing_12\"})[0]\n",
    "# df_player_passing_types_2324 = pd.read_html('https://fbref.com/en/squads/dcc91a7b/2023-2024/Valencia-Stats', attrs={\"id\": \"stats_passing_types_12\"})[0]\n",
    "# df_player_gca_2324 = pd.read_html('https://fbref.com/en/squads/dcc91a7b/2023-2024/Valencia-Stats', attrs={\"id\": \"stats_gca_12\"})[0]\n",
    "# df_player_defense_2324 = pd.read_html('https://fbref.com/en/squads/dcc91a7b/2023-2024/Valencia-Stats', attrs={\"id\": \"stats_defense_12\"})[0]\n",
    "# df_player_possession_2324 = pd.read_html('https://fbref.com/en/squads/dcc91a7b/2023-2024/Valencia-Stats', attrs={\"id\": \"stats_possession_12\"})[0]\n"
   ]
  },
  {
   "cell_type": "code",
   "execution_count": 5,
   "id": "2b0d8ee4",
   "metadata": {},
   "outputs": [],
   "source": [
    "# # Season 2022-2023\n",
    "# df_player_stats_2223 = pd.read_html('https://fbref.com/en/squads/dcc91a7b/2022-2023/Valencia-Stats', attrs={\"id\": \"stats_standard_12\"})[0]\n",
    "# df_player_shooting_2223 = pd.read_html('https://fbref.com/en/squads/dcc91a7b/2022-2023/Valencia-Stats', attrs={\"id\": \"stats_shooting_12\"})[0]\n",
    "# df_player_passing_2223 = pd.read_html('https://fbref.com/en/squads/dcc91a7b/2022-2023/Valencia-Stats', attrs={\"id\": \"stats_passing_12\"})[0]\n",
    "# df_player_passing_types_2223 = pd.read_html('https://fbref.com/en/squads/dcc91a7b/2022-2023/Valencia-Stats', attrs={\"id\": \"stats_passing_types_12\"})[0]\n",
    "# df_player_gca_2223 = pd.read_html('https://fbref.com/en/squads/dcc91a7b/2022-2023/Valencia-Stats', attrs={\"id\": \"stats_gca_12\"})[0]\n",
    "# df_player_defense_2223 = pd.read_html('https://fbref.com/en/squads/dcc91a7b/2022-2023/Valencia-Stats', attrs={\"id\": \"stats_defense_12\"})[0]\n",
    "# df_player_possession_2223 = pd.read_html('https://fbref.com/en/squads/dcc91a7b/2022-2023/Valencia-Stats', attrs={\"id\": \"stats_possession_12\"})[0]"
   ]
  },
  {
   "cell_type": "code",
   "execution_count": 6,
   "id": "df5cbd03",
   "metadata": {},
   "outputs": [],
   "source": [
    "# ##### Save all dataframes to CSV files for future use #####\n",
    "\n",
    "# # 1 Folder →  data/raw   (create if it doesn't exist)\n",
    "\n",
    "# RAW_DIR = Path(\"..\", \"data\", \"raw\")\n",
    "# RAW_DIR.mkdir(parents=True, exist_ok=True)\n",
    "\n",
    "# # 2 Find every variable in the notebook whose name starts with df_\n",
    "# frames = {\n",
    "#     name: obj\n",
    "#     for name, obj in globals().items()\n",
    "#     if name.startswith(\"df_\") and isinstance(obj, pd.DataFrame)\n",
    "# }\n",
    "\n",
    "# # 3  Save each DataFrame to CSV\n",
    "# for name, df in frames.items():\n",
    "#     filepath = RAW_DIR / f\"{name}.csv\"\n",
    "#     df.to_csv(filepath, index=False)\n",
    "#     print(f\"{filepath}\")"
   ]
  },
  {
   "cell_type": "code",
   "execution_count": 7,
   "id": "667bde1b",
   "metadata": {},
   "outputs": [],
   "source": [
    "BASE_URLS = {\n",
    "    \"2425\": \"https://fbref.com/en/squads/dcc91a7b/Valencia-Stats\",\n",
    "    \"2324\": \"https://fbref.com/en/squads/dcc91a7b/2023-2024/Valencia-Stats\",\n",
    "    \"2223\": \"https://fbref.com/en/squads/dcc91a7b/2022-2023/Valencia-Stats\",\n",
    "}\n",
    "\n",
    "TABLE_IDS = [\n",
    "    \"stats_standard_12\",\n",
    "    \"stats_shooting_12\",\n",
    "    \"stats_passing_12\",\n",
    "    \"stats_passing_types_12\",\n",
    "    \"stats_gca_12\",\n",
    "    \"stats_defense_12\",\n",
    "    \"stats_possession_12\",\n",
    "]"
   ]
  },
  {
   "cell_type": "code",
   "execution_count": 8,
   "id": "45a20f52",
   "metadata": {},
   "outputs": [],
   "source": [
    "MAX_REQUESTS = 10\n",
    "COOLDOWN_SECONDS = 15 * 60  # 15 minutes\n",
    "\n",
    "request_counter = 0"
   ]
  },
  {
   "cell_type": "code",
   "execution_count": 9,
   "id": "a0f57b3e",
   "metadata": {},
   "outputs": [],
   "source": [
    "def strip_suffix(table_id: str, suffix=\"_12\") -> str:\n",
    "    return table_id[:-len(suffix)] if table_id.endswith(suffix) else table_id"
   ]
  },
  {
   "cell_type": "markdown",
   "id": "565bdf80",
   "metadata": {},
   "source": [
    "We added a request counter and cooldown timer to the scraper to avoid triggering FBref’s rate limits and getting blocked after multiple table fetches."
   ]
  },
  {
   "cell_type": "code",
   "execution_count": 10,
   "id": "f47fb32e",
   "metadata": {},
   "outputs": [
    {
     "name": "stdout",
     "output_type": "stream",
     "text": [
      "Skipping existing file: df_player_stats_2425.csv\n",
      "Skipping existing file: df_player_shooting_2425.csv\n",
      "Skipping existing file: df_player_passing_2425.csv\n",
      "Skipping existing file: df_player_passing_types_2425.csv\n",
      "Skipping existing file: df_player_gca_2425.csv\n",
      "Skipping existing file: df_player_defense_2425.csv\n",
      "Skipping existing file: df_player_possession_2425.csv\n",
      "Skipping existing file: df_player_stats_2324.csv\n",
      "Skipping existing file: df_player_shooting_2324.csv\n",
      "Skipping existing file: df_player_passing_2324.csv\n",
      "Skipping existing file: df_player_passing_types_2324.csv\n",
      "Skipping existing file: df_player_gca_2324.csv\n",
      "Skipping existing file: df_player_defense_2324.csv\n",
      "Skipping existing file: df_player_possession_2324.csv\n",
      "Skipping existing file: df_player_stats_2223.csv\n",
      "Skipping existing file: df_player_shooting_2223.csv\n",
      "Skipping existing file: df_player_passing_2223.csv\n",
      "Skipping existing file: df_player_passing_types_2223.csv\n",
      "Skipping existing file: df_player_gca_2223.csv\n",
      "Skipping existing file: df_player_defense_2223.csv\n",
      "Skipping existing file: df_player_possession_2223.csv\n"
     ]
    }
   ],
   "source": [
    "for season, url in BASE_URLS.items():\n",
    "    for table_id in TABLE_IDS:\n",
    "        table_base = strip_suffix(table_id)\n",
    "        if table_base == \"stats_standard\":\n",
    "            fname = f\"df_player_stats_{season}.csv\"\n",
    "        else:\n",
    "            fname = f\"df_player_{table_base.replace('stats_', '')}_{season}.csv\"\n",
    "        fpath = RAW_DIR / fname\n",
    "\n",
    "        if fpath.exists():\n",
    "            print(f\"Skipping existing file: {fname}\")\n",
    "            continue\n",
    "\n",
    "        if request_counter >= MAX_REQUESTS:\n",
    "            print(f\"Request cap hit. Cooling down for {COOLDOWN_SECONDS // 60} minutes...\")\n",
    "            time.sleep(COOLDOWN_SECONDS)\n",
    "            request_counter = 0\n",
    "\n",
    "        try:\n",
    "            print(f\"Fetching: {season} | {table_id}\")\n",
    "            df = pd.read_html(url, attrs={\"id\": table_id})[0]\n",
    "            df.to_csv(fpath, index=False)\n",
    "            print(f\"Saved {fpath.name}\")\n",
    "            request_counter += 1\n",
    "        except Exception as e:\n",
    "            print(f\"Failed to fetch {table_id} for {season}: {e}\")\n",
    "\n",
    "        time.sleep(random.uniform(5, 10))"
   ]
  },
  {
   "cell_type": "markdown",
   "id": "757f1542",
   "metadata": {},
   "source": [
    "# Scrape Market Value Historical"
   ]
  },
  {
   "cell_type": "code",
   "execution_count": null,
   "id": "01ecd3d4",
   "metadata": {},
   "outputs": [],
   "source": []
  },
  {
   "cell_type": "code",
   "execution_count": null,
   "id": "dd671073",
   "metadata": {},
   "outputs": [],
   "source": []
  }
 ],
 "metadata": {
  "kernelspec": {
   "display_name": ".football-talent-env",
   "language": "python",
   "name": "python3"
  },
  "language_info": {
   "codemirror_mode": {
    "name": "ipython",
    "version": 3
   },
   "file_extension": ".py",
   "mimetype": "text/x-python",
   "name": "python",
   "nbconvert_exporter": "python",
   "pygments_lexer": "ipython3",
   "version": "3.13.1"
  }
 },
 "nbformat": 4,
 "nbformat_minor": 5
}
